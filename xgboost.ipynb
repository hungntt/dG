{
 "cells": [
  {
   "cell_type": "code",
   "execution_count": 1,
   "metadata": {
    "collapsed": true
   },
   "outputs": [],
   "source": [
    "from math import sqrt\n",
    "\n",
    "import lightgbm as lgb\n",
    "import pandas as pd\n",
    "from catboost import CatBoostRegressor\n",
    "from deepchem.metrics import pearsonr\n",
    "from sklearn.linear_model import LinearRegression\n",
    "from sklearn.metrics import mean_squared_error, mean_absolute_error, r2_score\n",
    "from sklearn.model_selection import train_test_split\n",
    "from sklearn.neighbors import KNeighborsRegressor\n",
    "from sklearn.preprocessing import LabelEncoder\n",
    "from sklearn.preprocessing import StandardScaler\n",
    "from sklearn.svm import SVR\n",
    "from sklearn.ensemble import GradientBoostingRegressor\n",
    "from xgboost import XGBRegressor\n",
    "from sklearn.ensemble import RandomForestRegressor"
   ]
  },
  {
   "cell_type": "code",
   "execution_count": 2,
   "outputs": [],
   "source": [
    "def metrics(model, X, y):\n",
    "    y_pred = model.predict(X)\n",
    "    rmse = sqrt(mean_squared_error(y, y_pred))\n",
    "    print('RMSE: %f' % rmse)\n",
    "    mae = mean_absolute_error(y, y_pred)\n",
    "    print('MAE: %f' % mae)\n",
    "    r2 = r2_score(y, y_pred)\n",
    "    print('R2: %f' % r2)\n",
    "    pearson = pearsonr(y, y_pred)\n",
    "    print('Pearson: %f' % pearson)"
   ],
   "metadata": {
    "collapsed": false
   }
  },
  {
   "cell_type": "code",
   "execution_count": 3,
   "outputs": [
    {
     "data": {
      "text/plain": "   MaxEStateIndex  MinEStateIndex  MaxAbsEStateIndex  MinAbsEStateIndex  \\\n0        8.645556        0.169259           8.645556           0.169259   \n1        8.975183        0.177713           8.975183           0.177713   \n2       10.660372       -4.412252          10.660372           0.026376   \n3       11.405303       -5.115401          11.405303           0.245126   \n4        8.541389        0.225231           8.541389           0.225231   \n\n        qed    MolWt  HeavyAtomMolWt  ExactMolWt  NumValenceElectrons  \\\n0  0.490728  110.112         104.064  110.036779                 42.0   \n1  0.794127  265.362         248.226  265.111759                 96.0   \n2  0.520728  345.341         327.197  345.078089                120.0   \n3  0.351107  425.320         406.168  425.044420                144.0   \n4  0.669277  143.211         134.139  143.040485                 50.0   \n\n   NumRadicalElectrons  ...  fr_tetrazole  fr_thiazole  fr_thiocyan  \\\n0                  0.0  ...           0.0          0.0          0.0   \n1                  0.0  ...           0.0          1.0          0.0   \n2                  0.0  ...           0.0          1.0          0.0   \n3                  0.0  ...           0.0          1.0          0.0   \n4                  0.0  ...           0.0          1.0          0.0   \n\n   fr_thiophene  fr_unbrch_alkane  fr_urea  id  \\\n0           0.0               0.0      0.0  0_   \n1           0.0               0.0      0.0  1_   \n2           0.0               0.0      0.0  2_   \n3           0.0               0.0      0.0  3_   \n4           0.0               0.0      0.0  4_   \n\n                                              smiles     dG  smiles_len  \n0                                    C1=CC(=CC=C1O)O -12.21          15  \n1                 CC1=C(SC=[N+]1CC2=CN=C(N=C2N)C)CCO  -4.62          34  \n2        CC1=C(SC=[N+]1CC2=CN=C(N=C2N)C)CCOP(=O)(O)O  -5.39          43  \n3  CC1=C(SC=[N+]1CC2=CN=C(N=C2N)C)CCOP(=O)(O)OP(=...  -9.61          52  \n4                                    CC1=C(SC=N1)CCO  -3.48          15  \n\n[5 rows x 212 columns]",
      "text/html": "<div>\n<style scoped>\n    .dataframe tbody tr th:only-of-type {\n        vertical-align: middle;\n    }\n\n    .dataframe tbody tr th {\n        vertical-align: top;\n    }\n\n    .dataframe thead th {\n        text-align: right;\n    }\n</style>\n<table border=\"1\" class=\"dataframe\">\n  <thead>\n    <tr style=\"text-align: right;\">\n      <th></th>\n      <th>MaxEStateIndex</th>\n      <th>MinEStateIndex</th>\n      <th>MaxAbsEStateIndex</th>\n      <th>MinAbsEStateIndex</th>\n      <th>qed</th>\n      <th>MolWt</th>\n      <th>HeavyAtomMolWt</th>\n      <th>ExactMolWt</th>\n      <th>NumValenceElectrons</th>\n      <th>NumRadicalElectrons</th>\n      <th>...</th>\n      <th>fr_tetrazole</th>\n      <th>fr_thiazole</th>\n      <th>fr_thiocyan</th>\n      <th>fr_thiophene</th>\n      <th>fr_unbrch_alkane</th>\n      <th>fr_urea</th>\n      <th>id</th>\n      <th>smiles</th>\n      <th>dG</th>\n      <th>smiles_len</th>\n    </tr>\n  </thead>\n  <tbody>\n    <tr>\n      <th>0</th>\n      <td>8.645556</td>\n      <td>0.169259</td>\n      <td>8.645556</td>\n      <td>0.169259</td>\n      <td>0.490728</td>\n      <td>110.112</td>\n      <td>104.064</td>\n      <td>110.036779</td>\n      <td>42.0</td>\n      <td>0.0</td>\n      <td>...</td>\n      <td>0.0</td>\n      <td>0.0</td>\n      <td>0.0</td>\n      <td>0.0</td>\n      <td>0.0</td>\n      <td>0.0</td>\n      <td>0_</td>\n      <td>C1=CC(=CC=C1O)O</td>\n      <td>-12.21</td>\n      <td>15</td>\n    </tr>\n    <tr>\n      <th>1</th>\n      <td>8.975183</td>\n      <td>0.177713</td>\n      <td>8.975183</td>\n      <td>0.177713</td>\n      <td>0.794127</td>\n      <td>265.362</td>\n      <td>248.226</td>\n      <td>265.111759</td>\n      <td>96.0</td>\n      <td>0.0</td>\n      <td>...</td>\n      <td>0.0</td>\n      <td>1.0</td>\n      <td>0.0</td>\n      <td>0.0</td>\n      <td>0.0</td>\n      <td>0.0</td>\n      <td>1_</td>\n      <td>CC1=C(SC=[N+]1CC2=CN=C(N=C2N)C)CCO</td>\n      <td>-4.62</td>\n      <td>34</td>\n    </tr>\n    <tr>\n      <th>2</th>\n      <td>10.660372</td>\n      <td>-4.412252</td>\n      <td>10.660372</td>\n      <td>0.026376</td>\n      <td>0.520728</td>\n      <td>345.341</td>\n      <td>327.197</td>\n      <td>345.078089</td>\n      <td>120.0</td>\n      <td>0.0</td>\n      <td>...</td>\n      <td>0.0</td>\n      <td>1.0</td>\n      <td>0.0</td>\n      <td>0.0</td>\n      <td>0.0</td>\n      <td>0.0</td>\n      <td>2_</td>\n      <td>CC1=C(SC=[N+]1CC2=CN=C(N=C2N)C)CCOP(=O)(O)O</td>\n      <td>-5.39</td>\n      <td>43</td>\n    </tr>\n    <tr>\n      <th>3</th>\n      <td>11.405303</td>\n      <td>-5.115401</td>\n      <td>11.405303</td>\n      <td>0.245126</td>\n      <td>0.351107</td>\n      <td>425.320</td>\n      <td>406.168</td>\n      <td>425.044420</td>\n      <td>144.0</td>\n      <td>0.0</td>\n      <td>...</td>\n      <td>0.0</td>\n      <td>1.0</td>\n      <td>0.0</td>\n      <td>0.0</td>\n      <td>0.0</td>\n      <td>0.0</td>\n      <td>3_</td>\n      <td>CC1=C(SC=[N+]1CC2=CN=C(N=C2N)C)CCOP(=O)(O)OP(=...</td>\n      <td>-9.61</td>\n      <td>52</td>\n    </tr>\n    <tr>\n      <th>4</th>\n      <td>8.541389</td>\n      <td>0.225231</td>\n      <td>8.541389</td>\n      <td>0.225231</td>\n      <td>0.669277</td>\n      <td>143.211</td>\n      <td>134.139</td>\n      <td>143.040485</td>\n      <td>50.0</td>\n      <td>0.0</td>\n      <td>...</td>\n      <td>0.0</td>\n      <td>1.0</td>\n      <td>0.0</td>\n      <td>0.0</td>\n      <td>0.0</td>\n      <td>0.0</td>\n      <td>4_</td>\n      <td>CC1=C(SC=N1)CCO</td>\n      <td>-3.48</td>\n      <td>15</td>\n    </tr>\n  </tbody>\n</table>\n<p>5 rows × 212 columns</p>\n</div>"
     },
     "execution_count": 3,
     "metadata": {},
     "output_type": "execute_result"
    }
   ],
   "source": [
    "df = pd.read_csv('pdXY_rdkit_descriptors_200ft.csv')\n",
    "# Extract rows where code is pred into another df\n",
    "sync = df[df['train_test'] == 'pred']\n",
    "# Remove rows where code is pred\n",
    "df = df[df['train_test'] != 'pred']\n",
    "# Drop train_test column\n",
    "df = df.drop('train_test', axis=1)\n",
    "df = df.drop('code', axis=1)\n",
    "df.head()"
   ],
   "metadata": {
    "collapsed": false
   }
  },
  {
   "cell_type": "code",
   "execution_count": 4,
   "outputs": [],
   "source": [
    "# encode the SMILES strings to categorical values\n",
    "le = LabelEncoder()\n",
    "df['smiles'] = le.fit_transform(df['smiles'])\n",
    "\n",
    "# remove _ at the end of column id and convert to int\n",
    "df['id'] = df['id'].str.replace('_','').astype(int)\n",
    "\n",
    "# Split X and y where the dG is the target\n",
    "X = df.drop('dG', axis=1)\n",
    "y = df['dG']\n",
    "\n",
    "# Split train test set\n",
    "X_train, X_test, y_train, y_test = train_test_split(X, y, test_size=0.2, random_state=42)"
   ],
   "metadata": {
    "collapsed": false
   }
  },
  {
   "cell_type": "code",
   "execution_count": 5,
   "outputs": [
    {
     "data": {
      "text/plain": "array([[ 0.0583933 , -0.04460835,  0.0583933 , ..., -0.82493055,\n         0.01831198, -1.29653196],\n       [ 0.56167447, -0.15965239,  0.56167447, ...,  1.00594357,\n         0.0318679 ,  0.23367727],\n       [ 1.22061204, -0.25825254,  1.22061204, ...,  0.25986237,\n         1.54109301,  2.11974911],\n       ...,\n       [-0.30878601,  0.78843885, -0.30878601, ..., -0.49995039,\n         0.91300232, -0.47804795],\n       [ 1.25697854, -0.26479181,  1.25697854, ...,  0.25528518,\n         1.52301846,  2.44002546],\n       [ 0.44265924, -0.43351015,  0.44265924, ..., -1.26891753,\n        -1.64906546, -0.40687543]])"
     },
     "execution_count": 5,
     "metadata": {},
     "output_type": "execute_result"
    }
   ],
   "source": [
    "# scale the data\n",
    "scaler = StandardScaler()\n",
    "X_train = scaler.fit_transform(X_train)\n",
    "X_test = scaler.transform(X_test)\n",
    "X_train"
   ],
   "metadata": {
    "collapsed": false
   }
  },
  {
   "cell_type": "code",
   "execution_count": 6,
   "outputs": [],
   "source": [
    "# Check NaN values in X_train\n",
    "pd.DataFrame(X_train).isnull().sum()\n",
    "# Replace NaN values with 0\n",
    "X_train = pd.DataFrame(X_train).fillna(0)\n",
    "X_test = pd.DataFrame(X_test).fillna(0)"
   ],
   "metadata": {
    "collapsed": false
   }
  },
  {
   "cell_type": "code",
   "execution_count": 9,
   "outputs": [
    {
     "data": {
      "text/plain": "609"
     },
     "execution_count": 9,
     "metadata": {},
     "output_type": "execute_result"
    }
   ],
   "source": [
    "len(X_train)"
   ],
   "metadata": {
    "collapsed": false
   }
  },
  {
   "cell_type": "code",
   "execution_count": 10,
   "outputs": [
    {
     "data": {
      "text/plain": "153"
     },
     "execution_count": 10,
     "metadata": {},
     "output_type": "execute_result"
    }
   ],
   "source": [
    "len(X_test)"
   ],
   "metadata": {
    "collapsed": false
   }
  },
  {
   "cell_type": "markdown",
   "source": [
    "# XGBoost"
   ],
   "metadata": {
    "collapsed": false
   }
  },
  {
   "cell_type": "code",
   "execution_count": 19,
   "outputs": [
    {
     "data": {
      "text/plain": "XGBRegressor(base_score=0.5, booster='gbtree', callbacks=None,\n             colsample_bylevel=1, colsample_bynode=1, colsample_bytree=0.8,\n             early_stopping_rounds=None, enable_categorical=False,\n             eval_metric=None, feature_types=None, gamma=0.1, gpu_id=-1,\n             grow_policy='depthwise', importance_type=None,\n             interaction_constraints='', learning_rate=0.1, max_bin=256,\n             max_cat_threshold=64, max_cat_to_onehot=4, max_delta_step=0,\n             max_depth=100, max_leaves=0, min_child_weight=1, missing=nan,\n             monotone_constraints='()', n_estimators=2000, n_jobs=0,\n             num_parallel_tree=1, predictor='auto', random_state=0, ...)",
      "text/html": "<style>#sk-container-id-2 {color: black;background-color: white;}#sk-container-id-2 pre{padding: 0;}#sk-container-id-2 div.sk-toggleable {background-color: white;}#sk-container-id-2 label.sk-toggleable__label {cursor: pointer;display: block;width: 100%;margin-bottom: 0;padding: 0.3em;box-sizing: border-box;text-align: center;}#sk-container-id-2 label.sk-toggleable__label-arrow:before {content: \"▸\";float: left;margin-right: 0.25em;color: #696969;}#sk-container-id-2 label.sk-toggleable__label-arrow:hover:before {color: black;}#sk-container-id-2 div.sk-estimator:hover label.sk-toggleable__label-arrow:before {color: black;}#sk-container-id-2 div.sk-toggleable__content {max-height: 0;max-width: 0;overflow: hidden;text-align: left;background-color: #f0f8ff;}#sk-container-id-2 div.sk-toggleable__content pre {margin: 0.2em;color: black;border-radius: 0.25em;background-color: #f0f8ff;}#sk-container-id-2 input.sk-toggleable__control:checked~div.sk-toggleable__content {max-height: 200px;max-width: 100%;overflow: auto;}#sk-container-id-2 input.sk-toggleable__control:checked~label.sk-toggleable__label-arrow:before {content: \"▾\";}#sk-container-id-2 div.sk-estimator input.sk-toggleable__control:checked~label.sk-toggleable__label {background-color: #d4ebff;}#sk-container-id-2 div.sk-label input.sk-toggleable__control:checked~label.sk-toggleable__label {background-color: #d4ebff;}#sk-container-id-2 input.sk-hidden--visually {border: 0;clip: rect(1px 1px 1px 1px);clip: rect(1px, 1px, 1px, 1px);height: 1px;margin: -1px;overflow: hidden;padding: 0;position: absolute;width: 1px;}#sk-container-id-2 div.sk-estimator {font-family: monospace;background-color: #f0f8ff;border: 1px dotted black;border-radius: 0.25em;box-sizing: border-box;margin-bottom: 0.5em;}#sk-container-id-2 div.sk-estimator:hover {background-color: #d4ebff;}#sk-container-id-2 div.sk-parallel-item::after {content: \"\";width: 100%;border-bottom: 1px solid gray;flex-grow: 1;}#sk-container-id-2 div.sk-label:hover label.sk-toggleable__label {background-color: #d4ebff;}#sk-container-id-2 div.sk-serial::before {content: \"\";position: absolute;border-left: 1px solid gray;box-sizing: border-box;top: 0;bottom: 0;left: 50%;z-index: 0;}#sk-container-id-2 div.sk-serial {display: flex;flex-direction: column;align-items: center;background-color: white;padding-right: 0.2em;padding-left: 0.2em;position: relative;}#sk-container-id-2 div.sk-item {position: relative;z-index: 1;}#sk-container-id-2 div.sk-parallel {display: flex;align-items: stretch;justify-content: center;background-color: white;position: relative;}#sk-container-id-2 div.sk-item::before, #sk-container-id-2 div.sk-parallel-item::before {content: \"\";position: absolute;border-left: 1px solid gray;box-sizing: border-box;top: 0;bottom: 0;left: 50%;z-index: -1;}#sk-container-id-2 div.sk-parallel-item {display: flex;flex-direction: column;z-index: 1;position: relative;background-color: white;}#sk-container-id-2 div.sk-parallel-item:first-child::after {align-self: flex-end;width: 50%;}#sk-container-id-2 div.sk-parallel-item:last-child::after {align-self: flex-start;width: 50%;}#sk-container-id-2 div.sk-parallel-item:only-child::after {width: 0;}#sk-container-id-2 div.sk-dashed-wrapped {border: 1px dashed gray;margin: 0 0.4em 0.5em 0.4em;box-sizing: border-box;padding-bottom: 0.4em;background-color: white;}#sk-container-id-2 div.sk-label label {font-family: monospace;font-weight: bold;display: inline-block;line-height: 1.2em;}#sk-container-id-2 div.sk-label-container {text-align: center;}#sk-container-id-2 div.sk-container {/* jupyter's `normalize.less` sets `[hidden] { display: none; }` but bootstrap.min.css set `[hidden] { display: none !important; }` so we also need the `!important` here to be able to override the default hidden behavior on the sphinx rendered scikit-learn.org. See: https://github.com/scikit-learn/scikit-learn/issues/21755 */display: inline-block !important;position: relative;}#sk-container-id-2 div.sk-text-repr-fallback {display: none;}</style><div id=\"sk-container-id-2\" class=\"sk-top-container\"><div class=\"sk-text-repr-fallback\"><pre>XGBRegressor(base_score=0.5, booster=&#x27;gbtree&#x27;, callbacks=None,\n             colsample_bylevel=1, colsample_bynode=1, colsample_bytree=0.8,\n             early_stopping_rounds=None, enable_categorical=False,\n             eval_metric=None, feature_types=None, gamma=0.1, gpu_id=-1,\n             grow_policy=&#x27;depthwise&#x27;, importance_type=None,\n             interaction_constraints=&#x27;&#x27;, learning_rate=0.1, max_bin=256,\n             max_cat_threshold=64, max_cat_to_onehot=4, max_delta_step=0,\n             max_depth=100, max_leaves=0, min_child_weight=1, missing=nan,\n             monotone_constraints=&#x27;()&#x27;, n_estimators=2000, n_jobs=0,\n             num_parallel_tree=1, predictor=&#x27;auto&#x27;, random_state=0, ...)</pre><b>In a Jupyter environment, please rerun this cell to show the HTML representation or trust the notebook. <br />On GitHub, the HTML representation is unable to render, please try loading this page with nbviewer.org.</b></div><div class=\"sk-container\" hidden><div class=\"sk-item\"><div class=\"sk-estimator sk-toggleable\"><input class=\"sk-toggleable__control sk-hidden--visually\" id=\"sk-estimator-id-2\" type=\"checkbox\" checked><label for=\"sk-estimator-id-2\" class=\"sk-toggleable__label sk-toggleable__label-arrow\">XGBRegressor</label><div class=\"sk-toggleable__content\"><pre>XGBRegressor(base_score=0.5, booster=&#x27;gbtree&#x27;, callbacks=None,\n             colsample_bylevel=1, colsample_bynode=1, colsample_bytree=0.8,\n             early_stopping_rounds=None, enable_categorical=False,\n             eval_metric=None, feature_types=None, gamma=0.1, gpu_id=-1,\n             grow_policy=&#x27;depthwise&#x27;, importance_type=None,\n             interaction_constraints=&#x27;&#x27;, learning_rate=0.1, max_bin=256,\n             max_cat_threshold=64, max_cat_to_onehot=4, max_delta_step=0,\n             max_depth=100, max_leaves=0, min_child_weight=1, missing=nan,\n             monotone_constraints=&#x27;()&#x27;, n_estimators=2000, n_jobs=0,\n             num_parallel_tree=1, predictor=&#x27;auto&#x27;, random_state=0, ...)</pre></div></div></div></div></div>"
     },
     "execution_count": 19,
     "metadata": {},
     "output_type": "execute_result"
    }
   ],
   "source": [
    "# Fit an XGBRegressor model\n",
    "xgb = XGBRegressor(max_depth=100, n_estimators=2000, learning_rate=0.1, min_child_weight=1, subsample=0.8, colsample_bytree=0.8, gamma=0.1, reg_alpha=0.1, reg_lambda=0.1)\n",
    "xgb.fit(X_train, y_train)"
   ],
   "metadata": {
    "collapsed": false
   }
  },
  {
   "cell_type": "code",
   "execution_count": 20,
   "outputs": [
    {
     "name": "stdout",
     "output_type": "stream",
     "text": [
      "RMSE: 1.498628\n",
      "MAE: 1.042112\n",
      "R2: 0.528366\n",
      "Pearson: 0.731765\n"
     ]
    }
   ],
   "source": [
    "# Predict the test set and calculate the accuracy\n",
    "metrics(xgb, X_test, y_test)"
   ],
   "metadata": {
    "collapsed": false
   }
  },
  {
   "cell_type": "markdown",
   "source": [
    "# Linear Regression"
   ],
   "metadata": {
    "collapsed": false
   }
  },
  {
   "cell_type": "code",
   "execution_count": 21,
   "outputs": [
    {
     "data": {
      "text/plain": "LinearRegression()",
      "text/html": "<style>#sk-container-id-3 {color: black;background-color: white;}#sk-container-id-3 pre{padding: 0;}#sk-container-id-3 div.sk-toggleable {background-color: white;}#sk-container-id-3 label.sk-toggleable__label {cursor: pointer;display: block;width: 100%;margin-bottom: 0;padding: 0.3em;box-sizing: border-box;text-align: center;}#sk-container-id-3 label.sk-toggleable__label-arrow:before {content: \"▸\";float: left;margin-right: 0.25em;color: #696969;}#sk-container-id-3 label.sk-toggleable__label-arrow:hover:before {color: black;}#sk-container-id-3 div.sk-estimator:hover label.sk-toggleable__label-arrow:before {color: black;}#sk-container-id-3 div.sk-toggleable__content {max-height: 0;max-width: 0;overflow: hidden;text-align: left;background-color: #f0f8ff;}#sk-container-id-3 div.sk-toggleable__content pre {margin: 0.2em;color: black;border-radius: 0.25em;background-color: #f0f8ff;}#sk-container-id-3 input.sk-toggleable__control:checked~div.sk-toggleable__content {max-height: 200px;max-width: 100%;overflow: auto;}#sk-container-id-3 input.sk-toggleable__control:checked~label.sk-toggleable__label-arrow:before {content: \"▾\";}#sk-container-id-3 div.sk-estimator input.sk-toggleable__control:checked~label.sk-toggleable__label {background-color: #d4ebff;}#sk-container-id-3 div.sk-label input.sk-toggleable__control:checked~label.sk-toggleable__label {background-color: #d4ebff;}#sk-container-id-3 input.sk-hidden--visually {border: 0;clip: rect(1px 1px 1px 1px);clip: rect(1px, 1px, 1px, 1px);height: 1px;margin: -1px;overflow: hidden;padding: 0;position: absolute;width: 1px;}#sk-container-id-3 div.sk-estimator {font-family: monospace;background-color: #f0f8ff;border: 1px dotted black;border-radius: 0.25em;box-sizing: border-box;margin-bottom: 0.5em;}#sk-container-id-3 div.sk-estimator:hover {background-color: #d4ebff;}#sk-container-id-3 div.sk-parallel-item::after {content: \"\";width: 100%;border-bottom: 1px solid gray;flex-grow: 1;}#sk-container-id-3 div.sk-label:hover label.sk-toggleable__label {background-color: #d4ebff;}#sk-container-id-3 div.sk-serial::before {content: \"\";position: absolute;border-left: 1px solid gray;box-sizing: border-box;top: 0;bottom: 0;left: 50%;z-index: 0;}#sk-container-id-3 div.sk-serial {display: flex;flex-direction: column;align-items: center;background-color: white;padding-right: 0.2em;padding-left: 0.2em;position: relative;}#sk-container-id-3 div.sk-item {position: relative;z-index: 1;}#sk-container-id-3 div.sk-parallel {display: flex;align-items: stretch;justify-content: center;background-color: white;position: relative;}#sk-container-id-3 div.sk-item::before, #sk-container-id-3 div.sk-parallel-item::before {content: \"\";position: absolute;border-left: 1px solid gray;box-sizing: border-box;top: 0;bottom: 0;left: 50%;z-index: -1;}#sk-container-id-3 div.sk-parallel-item {display: flex;flex-direction: column;z-index: 1;position: relative;background-color: white;}#sk-container-id-3 div.sk-parallel-item:first-child::after {align-self: flex-end;width: 50%;}#sk-container-id-3 div.sk-parallel-item:last-child::after {align-self: flex-start;width: 50%;}#sk-container-id-3 div.sk-parallel-item:only-child::after {width: 0;}#sk-container-id-3 div.sk-dashed-wrapped {border: 1px dashed gray;margin: 0 0.4em 0.5em 0.4em;box-sizing: border-box;padding-bottom: 0.4em;background-color: white;}#sk-container-id-3 div.sk-label label {font-family: monospace;font-weight: bold;display: inline-block;line-height: 1.2em;}#sk-container-id-3 div.sk-label-container {text-align: center;}#sk-container-id-3 div.sk-container {/* jupyter's `normalize.less` sets `[hidden] { display: none; }` but bootstrap.min.css set `[hidden] { display: none !important; }` so we also need the `!important` here to be able to override the default hidden behavior on the sphinx rendered scikit-learn.org. See: https://github.com/scikit-learn/scikit-learn/issues/21755 */display: inline-block !important;position: relative;}#sk-container-id-3 div.sk-text-repr-fallback {display: none;}</style><div id=\"sk-container-id-3\" class=\"sk-top-container\"><div class=\"sk-text-repr-fallback\"><pre>LinearRegression()</pre><b>In a Jupyter environment, please rerun this cell to show the HTML representation or trust the notebook. <br />On GitHub, the HTML representation is unable to render, please try loading this page with nbviewer.org.</b></div><div class=\"sk-container\" hidden><div class=\"sk-item\"><div class=\"sk-estimator sk-toggleable\"><input class=\"sk-toggleable__control sk-hidden--visually\" id=\"sk-estimator-id-3\" type=\"checkbox\" checked><label for=\"sk-estimator-id-3\" class=\"sk-toggleable__label sk-toggleable__label-arrow\">LinearRegression</label><div class=\"sk-toggleable__content\"><pre>LinearRegression()</pre></div></div></div></div></div>"
     },
     "execution_count": 21,
     "metadata": {},
     "output_type": "execute_result"
    }
   ],
   "source": [
    "lr = LinearRegression()\n",
    "lr.fit(X_train, y_train)"
   ],
   "metadata": {
    "collapsed": false
   }
  },
  {
   "cell_type": "code",
   "execution_count": 22,
   "outputs": [
    {
     "name": "stdout",
     "output_type": "stream",
     "text": [
      "RMSE: 4.361776\n",
      "MAE: 2.127011\n",
      "R2: -2.995246\n",
      "Pearson: 0.221917\n"
     ]
    }
   ],
   "source": [
    "# Predict the test set and calculate the accuracy\n",
    "metrics(lr, X_test, y_test)"
   ],
   "metadata": {
    "collapsed": false
   }
  },
  {
   "cell_type": "markdown",
   "source": [
    "# CatBoost"
   ],
   "metadata": {
    "collapsed": false
   }
  },
  {
   "cell_type": "code",
   "execution_count": 23,
   "outputs": [
    {
     "name": "stdout",
     "output_type": "stream",
     "text": [
      "Learning rate set to 0.037857\n",
      "0:\tlearn: 2.2925222\ttotal: 146ms\tremaining: 2m 25s\n",
      "1:\tlearn: 2.2718670\ttotal: 153ms\tremaining: 1m 16s\n",
      "2:\tlearn: 2.2471879\ttotal: 160ms\tremaining: 53.2s\n",
      "3:\tlearn: 2.2265299\ttotal: 167ms\tremaining: 41.6s\n",
      "4:\tlearn: 2.2097520\ttotal: 174ms\tremaining: 34.6s\n",
      "5:\tlearn: 2.1884163\ttotal: 180ms\tremaining: 29.8s\n",
      "6:\tlearn: 2.1705005\ttotal: 190ms\tremaining: 26.9s\n",
      "7:\tlearn: 2.1508855\ttotal: 197ms\tremaining: 24.4s\n",
      "8:\tlearn: 2.1236736\ttotal: 205ms\tremaining: 22.5s\n",
      "9:\tlearn: 2.1046479\ttotal: 212ms\tremaining: 21s\n",
      "10:\tlearn: 2.0846209\ttotal: 220ms\tremaining: 19.7s\n",
      "11:\tlearn: 2.0661652\ttotal: 227ms\tremaining: 18.7s\n",
      "12:\tlearn: 2.0500033\ttotal: 237ms\tremaining: 18s\n",
      "13:\tlearn: 2.0281696\ttotal: 246ms\tremaining: 17.3s\n",
      "14:\tlearn: 2.0137062\ttotal: 255ms\tremaining: 16.8s\n",
      "15:\tlearn: 1.9950932\ttotal: 264ms\tremaining: 16.2s\n",
      "16:\tlearn: 1.9784757\ttotal: 272ms\tremaining: 15.7s\n",
      "17:\tlearn: 1.9645289\ttotal: 280ms\tremaining: 15.3s\n",
      "18:\tlearn: 1.9431262\ttotal: 288ms\tremaining: 14.9s\n",
      "19:\tlearn: 1.9318052\ttotal: 296ms\tremaining: 14.5s\n",
      "20:\tlearn: 1.9201661\ttotal: 306ms\tremaining: 14.3s\n",
      "21:\tlearn: 1.9056504\ttotal: 321ms\tremaining: 14.3s\n",
      "22:\tlearn: 1.8898280\ttotal: 331ms\tremaining: 14.1s\n",
      "23:\tlearn: 1.8763872\ttotal: 341ms\tremaining: 13.9s\n",
      "24:\tlearn: 1.8576248\ttotal: 350ms\tremaining: 13.6s\n",
      "25:\tlearn: 1.8490511\ttotal: 359ms\tremaining: 13.4s\n",
      "26:\tlearn: 1.8383403\ttotal: 370ms\tremaining: 13.3s\n",
      "27:\tlearn: 1.8272370\ttotal: 379ms\tremaining: 13.2s\n",
      "28:\tlearn: 1.8099408\ttotal: 388ms\tremaining: 13s\n",
      "29:\tlearn: 1.7977387\ttotal: 396ms\tremaining: 12.8s\n",
      "30:\tlearn: 1.7856896\ttotal: 406ms\tremaining: 12.7s\n",
      "31:\tlearn: 1.7777999\ttotal: 415ms\tremaining: 12.5s\n",
      "32:\tlearn: 1.7669480\ttotal: 423ms\tremaining: 12.4s\n",
      "33:\tlearn: 1.7536350\ttotal: 431ms\tremaining: 12.2s\n",
      "34:\tlearn: 1.7427625\ttotal: 440ms\tremaining: 12.1s\n",
      "35:\tlearn: 1.7322528\ttotal: 450ms\tremaining: 12s\n",
      "36:\tlearn: 1.7231153\ttotal: 459ms\tremaining: 11.9s\n",
      "37:\tlearn: 1.7153115\ttotal: 467ms\tremaining: 11.8s\n",
      "38:\tlearn: 1.7001891\ttotal: 476ms\tremaining: 11.7s\n",
      "39:\tlearn: 1.6848479\ttotal: 485ms\tremaining: 11.6s\n",
      "40:\tlearn: 1.6771963\ttotal: 495ms\tremaining: 11.6s\n",
      "41:\tlearn: 1.6646262\ttotal: 509ms\tremaining: 11.6s\n",
      "42:\tlearn: 1.6594491\ttotal: 519ms\tremaining: 11.6s\n",
      "43:\tlearn: 1.6491605\ttotal: 530ms\tremaining: 11.5s\n",
      "44:\tlearn: 1.6393915\ttotal: 553ms\tremaining: 11.7s\n",
      "45:\tlearn: 1.6309142\ttotal: 561ms\tremaining: 11.6s\n",
      "46:\tlearn: 1.6196514\ttotal: 569ms\tremaining: 11.5s\n",
      "47:\tlearn: 1.6111788\ttotal: 577ms\tremaining: 11.4s\n",
      "48:\tlearn: 1.6068381\ttotal: 585ms\tremaining: 11.3s\n",
      "49:\tlearn: 1.6019164\ttotal: 593ms\tremaining: 11.3s\n",
      "50:\tlearn: 1.5942361\ttotal: 601ms\tremaining: 11.2s\n",
      "51:\tlearn: 1.5862046\ttotal: 608ms\tremaining: 11.1s\n",
      "52:\tlearn: 1.5752456\ttotal: 616ms\tremaining: 11s\n",
      "53:\tlearn: 1.5649354\ttotal: 624ms\tremaining: 10.9s\n",
      "54:\tlearn: 1.5613334\ttotal: 633ms\tremaining: 10.9s\n",
      "55:\tlearn: 1.5550508\ttotal: 653ms\tremaining: 11s\n",
      "56:\tlearn: 1.5505475\ttotal: 661ms\tremaining: 10.9s\n",
      "57:\tlearn: 1.5448303\ttotal: 671ms\tremaining: 10.9s\n",
      "58:\tlearn: 1.5404386\ttotal: 678ms\tremaining: 10.8s\n",
      "59:\tlearn: 1.5330688\ttotal: 687ms\tremaining: 10.8s\n",
      "60:\tlearn: 1.5269410\ttotal: 697ms\tremaining: 10.7s\n",
      "61:\tlearn: 1.5168303\ttotal: 709ms\tremaining: 10.7s\n",
      "62:\tlearn: 1.5115310\ttotal: 719ms\tremaining: 10.7s\n",
      "63:\tlearn: 1.5027364\ttotal: 728ms\tremaining: 10.7s\n",
      "64:\tlearn: 1.4952747\ttotal: 737ms\tremaining: 10.6s\n",
      "65:\tlearn: 1.4901939\ttotal: 745ms\tremaining: 10.5s\n",
      "66:\tlearn: 1.4822052\ttotal: 753ms\tremaining: 10.5s\n",
      "67:\tlearn: 1.4743870\ttotal: 760ms\tremaining: 10.4s\n",
      "68:\tlearn: 1.4675034\ttotal: 768ms\tremaining: 10.4s\n",
      "69:\tlearn: 1.4607974\ttotal: 776ms\tremaining: 10.3s\n",
      "70:\tlearn: 1.4557319\ttotal: 784ms\tremaining: 10.3s\n",
      "71:\tlearn: 1.4514961\ttotal: 792ms\tremaining: 10.2s\n",
      "72:\tlearn: 1.4455158\ttotal: 801ms\tremaining: 10.2s\n",
      "73:\tlearn: 1.4366275\ttotal: 810ms\tremaining: 10.1s\n",
      "74:\tlearn: 1.4313656\ttotal: 818ms\tremaining: 10.1s\n",
      "75:\tlearn: 1.4231773\ttotal: 826ms\tremaining: 10s\n",
      "76:\tlearn: 1.4197516\ttotal: 834ms\tremaining: 10s\n",
      "77:\tlearn: 1.4180595\ttotal: 843ms\tremaining: 9.96s\n",
      "78:\tlearn: 1.4088264\ttotal: 851ms\tremaining: 9.92s\n",
      "79:\tlearn: 1.4008086\ttotal: 860ms\tremaining: 9.89s\n",
      "80:\tlearn: 1.3937487\ttotal: 869ms\tremaining: 9.86s\n",
      "81:\tlearn: 1.3886179\ttotal: 876ms\tremaining: 9.81s\n",
      "82:\tlearn: 1.3844019\ttotal: 883ms\tremaining: 9.75s\n",
      "83:\tlearn: 1.3774360\ttotal: 891ms\tremaining: 9.72s\n",
      "84:\tlearn: 1.3742794\ttotal: 903ms\tremaining: 9.72s\n",
      "85:\tlearn: 1.3700014\ttotal: 910ms\tremaining: 9.67s\n",
      "86:\tlearn: 1.3637869\ttotal: 920ms\tremaining: 9.65s\n",
      "87:\tlearn: 1.3559780\ttotal: 927ms\tremaining: 9.6s\n",
      "88:\tlearn: 1.3514119\ttotal: 935ms\tremaining: 9.57s\n",
      "89:\tlearn: 1.3429614\ttotal: 942ms\tremaining: 9.52s\n",
      "90:\tlearn: 1.3357105\ttotal: 950ms\tremaining: 9.49s\n",
      "91:\tlearn: 1.3340419\ttotal: 957ms\tremaining: 9.45s\n",
      "92:\tlearn: 1.3272554\ttotal: 966ms\tremaining: 9.42s\n",
      "93:\tlearn: 1.3252344\ttotal: 975ms\tremaining: 9.4s\n",
      "94:\tlearn: 1.3213702\ttotal: 984ms\tremaining: 9.37s\n",
      "95:\tlearn: 1.3160981\ttotal: 992ms\tremaining: 9.34s\n",
      "96:\tlearn: 1.3137525\ttotal: 999ms\tremaining: 9.3s\n",
      "97:\tlearn: 1.3122111\ttotal: 1.01s\tremaining: 9.26s\n",
      "98:\tlearn: 1.3061395\ttotal: 1.01s\tremaining: 9.23s\n",
      "99:\tlearn: 1.3002269\ttotal: 1.02s\tremaining: 9.19s\n",
      "100:\tlearn: 1.2969035\ttotal: 1.03s\tremaining: 9.16s\n",
      "101:\tlearn: 1.2907250\ttotal: 1.04s\tremaining: 9.13s\n",
      "102:\tlearn: 1.2871359\ttotal: 1.04s\tremaining: 9.1s\n",
      "103:\tlearn: 1.2811069\ttotal: 1.05s\tremaining: 9.08s\n",
      "104:\tlearn: 1.2786569\ttotal: 1.06s\tremaining: 9.05s\n",
      "105:\tlearn: 1.2759494\ttotal: 1.07s\tremaining: 9.02s\n",
      "106:\tlearn: 1.2713264\ttotal: 1.08s\tremaining: 9s\n",
      "107:\tlearn: 1.2659370\ttotal: 1.09s\tremaining: 8.97s\n",
      "108:\tlearn: 1.2614345\ttotal: 1.1s\tremaining: 9s\n",
      "109:\tlearn: 1.2576699\ttotal: 1.11s\tremaining: 8.99s\n",
      "110:\tlearn: 1.2520705\ttotal: 1.12s\tremaining: 8.97s\n",
      "111:\tlearn: 1.2481131\ttotal: 1.13s\tremaining: 8.93s\n",
      "112:\tlearn: 1.2432051\ttotal: 1.13s\tremaining: 8.91s\n",
      "113:\tlearn: 1.2402812\ttotal: 1.14s\tremaining: 8.88s\n",
      "114:\tlearn: 1.2353874\ttotal: 1.15s\tremaining: 8.85s\n",
      "115:\tlearn: 1.2313385\ttotal: 1.16s\tremaining: 8.83s\n",
      "116:\tlearn: 1.2279317\ttotal: 1.17s\tremaining: 8.8s\n",
      "117:\tlearn: 1.2255184\ttotal: 1.18s\tremaining: 8.79s\n",
      "118:\tlearn: 1.2232226\ttotal: 1.18s\tremaining: 8.75s\n",
      "119:\tlearn: 1.2186736\ttotal: 1.19s\tremaining: 8.73s\n",
      "120:\tlearn: 1.2131968\ttotal: 1.2s\tremaining: 8.69s\n",
      "121:\tlearn: 1.2114245\ttotal: 1.2s\tremaining: 8.66s\n",
      "122:\tlearn: 1.2047964\ttotal: 1.21s\tremaining: 8.62s\n",
      "123:\tlearn: 1.1989755\ttotal: 1.22s\tremaining: 8.59s\n",
      "124:\tlearn: 1.1967703\ttotal: 1.22s\tremaining: 8.56s\n",
      "125:\tlearn: 1.1932793\ttotal: 1.23s\tremaining: 8.53s\n",
      "126:\tlearn: 1.1899318\ttotal: 1.24s\tremaining: 8.5s\n",
      "127:\tlearn: 1.1874603\ttotal: 1.24s\tremaining: 8.46s\n",
      "128:\tlearn: 1.1837072\ttotal: 1.25s\tremaining: 8.45s\n",
      "129:\tlearn: 1.1812591\ttotal: 1.26s\tremaining: 8.43s\n",
      "130:\tlearn: 1.1781655\ttotal: 1.27s\tremaining: 8.41s\n",
      "131:\tlearn: 1.1732828\ttotal: 1.28s\tremaining: 8.39s\n",
      "132:\tlearn: 1.1696424\ttotal: 1.29s\tremaining: 8.39s\n",
      "133:\tlearn: 1.1654311\ttotal: 1.3s\tremaining: 8.39s\n",
      "134:\tlearn: 1.1617478\ttotal: 1.31s\tremaining: 8.37s\n",
      "135:\tlearn: 1.1556081\ttotal: 1.31s\tremaining: 8.34s\n",
      "136:\tlearn: 1.1522647\ttotal: 1.32s\tremaining: 8.32s\n",
      "137:\tlearn: 1.1486011\ttotal: 1.33s\tremaining: 8.29s\n",
      "138:\tlearn: 1.1444357\ttotal: 1.34s\tremaining: 8.28s\n",
      "139:\tlearn: 1.1403951\ttotal: 1.34s\tremaining: 8.27s\n",
      "140:\tlearn: 1.1365831\ttotal: 1.35s\tremaining: 8.26s\n",
      "141:\tlearn: 1.1335337\ttotal: 1.36s\tremaining: 8.23s\n",
      "142:\tlearn: 1.1304048\ttotal: 1.37s\tremaining: 8.22s\n",
      "143:\tlearn: 1.1275291\ttotal: 1.38s\tremaining: 8.2s\n",
      "144:\tlearn: 1.1233922\ttotal: 1.39s\tremaining: 8.18s\n",
      "145:\tlearn: 1.1204842\ttotal: 1.4s\tremaining: 8.16s\n",
      "146:\tlearn: 1.1172620\ttotal: 1.4s\tremaining: 8.15s\n",
      "147:\tlearn: 1.1113065\ttotal: 1.41s\tremaining: 8.13s\n",
      "148:\tlearn: 1.1074477\ttotal: 1.42s\tremaining: 8.12s\n",
      "149:\tlearn: 1.1044978\ttotal: 1.43s\tremaining: 8.11s\n",
      "150:\tlearn: 1.1015207\ttotal: 1.44s\tremaining: 8.09s\n",
      "151:\tlearn: 1.0971802\ttotal: 1.45s\tremaining: 8.08s\n",
      "152:\tlearn: 1.0926903\ttotal: 1.46s\tremaining: 8.06s\n",
      "153:\tlearn: 1.0878819\ttotal: 1.46s\tremaining: 8.04s\n",
      "154:\tlearn: 1.0868273\ttotal: 1.47s\tremaining: 8.02s\n",
      "155:\tlearn: 1.0838207\ttotal: 1.48s\tremaining: 8.01s\n",
      "156:\tlearn: 1.0813399\ttotal: 1.49s\tremaining: 7.99s\n",
      "157:\tlearn: 1.0766768\ttotal: 1.5s\tremaining: 8s\n",
      "158:\tlearn: 1.0738384\ttotal: 1.51s\tremaining: 7.98s\n",
      "159:\tlearn: 1.0698953\ttotal: 1.52s\tremaining: 7.96s\n",
      "160:\tlearn: 1.0680104\ttotal: 1.53s\tremaining: 7.95s\n",
      "161:\tlearn: 1.0669167\ttotal: 1.53s\tremaining: 7.94s\n",
      "162:\tlearn: 1.0659223\ttotal: 1.54s\tremaining: 7.92s\n",
      "163:\tlearn: 1.0621018\ttotal: 1.55s\tremaining: 7.91s\n",
      "164:\tlearn: 1.0594894\ttotal: 1.56s\tremaining: 7.89s\n",
      "165:\tlearn: 1.0550207\ttotal: 1.57s\tremaining: 7.87s\n",
      "166:\tlearn: 1.0515761\ttotal: 1.57s\tremaining: 7.85s\n",
      "167:\tlearn: 1.0503715\ttotal: 1.58s\tremaining: 7.83s\n",
      "168:\tlearn: 1.0463611\ttotal: 1.59s\tremaining: 7.82s\n",
      "169:\tlearn: 1.0420553\ttotal: 1.6s\tremaining: 7.8s\n",
      "170:\tlearn: 1.0389673\ttotal: 1.61s\tremaining: 7.79s\n",
      "171:\tlearn: 1.0363134\ttotal: 1.61s\tremaining: 7.77s\n",
      "172:\tlearn: 1.0347864\ttotal: 1.62s\tremaining: 7.75s\n",
      "173:\tlearn: 1.0336163\ttotal: 1.63s\tremaining: 7.73s\n",
      "174:\tlearn: 1.0301518\ttotal: 1.64s\tremaining: 7.71s\n",
      "175:\tlearn: 1.0276552\ttotal: 1.64s\tremaining: 7.7s\n",
      "176:\tlearn: 1.0243349\ttotal: 1.65s\tremaining: 7.68s\n",
      "177:\tlearn: 1.0220268\ttotal: 1.66s\tremaining: 7.66s\n",
      "178:\tlearn: 1.0188632\ttotal: 1.67s\tremaining: 7.64s\n",
      "179:\tlearn: 1.0162460\ttotal: 1.67s\tremaining: 7.63s\n",
      "180:\tlearn: 1.0124511\ttotal: 1.68s\tremaining: 7.62s\n",
      "181:\tlearn: 1.0103880\ttotal: 1.69s\tremaining: 7.61s\n",
      "182:\tlearn: 1.0072135\ttotal: 1.7s\tremaining: 7.59s\n",
      "183:\tlearn: 1.0043272\ttotal: 1.71s\tremaining: 7.58s\n",
      "184:\tlearn: 1.0000854\ttotal: 1.72s\tremaining: 7.56s\n",
      "185:\tlearn: 0.9977129\ttotal: 1.72s\tremaining: 7.54s\n",
      "186:\tlearn: 0.9950597\ttotal: 1.73s\tremaining: 7.53s\n",
      "187:\tlearn: 0.9932372\ttotal: 1.74s\tremaining: 7.51s\n",
      "188:\tlearn: 0.9903459\ttotal: 1.75s\tremaining: 7.5s\n",
      "189:\tlearn: 0.9876121\ttotal: 1.75s\tremaining: 7.48s\n",
      "190:\tlearn: 0.9834046\ttotal: 1.76s\tremaining: 7.47s\n",
      "191:\tlearn: 0.9814913\ttotal: 1.77s\tremaining: 7.45s\n",
      "192:\tlearn: 0.9779904\ttotal: 1.78s\tremaining: 7.44s\n",
      "193:\tlearn: 0.9747085\ttotal: 1.78s\tremaining: 7.42s\n",
      "194:\tlearn: 0.9713308\ttotal: 1.79s\tremaining: 7.41s\n",
      "195:\tlearn: 0.9671894\ttotal: 1.8s\tremaining: 7.38s\n",
      "196:\tlearn: 0.9655812\ttotal: 1.81s\tremaining: 7.36s\n",
      "197:\tlearn: 0.9645736\ttotal: 1.81s\tremaining: 7.34s\n",
      "198:\tlearn: 0.9608119\ttotal: 1.82s\tremaining: 7.32s\n",
      "199:\tlearn: 0.9594549\ttotal: 1.82s\tremaining: 7.3s\n",
      "200:\tlearn: 0.9567772\ttotal: 1.83s\tremaining: 7.28s\n",
      "201:\tlearn: 0.9534787\ttotal: 1.84s\tremaining: 7.26s\n",
      "202:\tlearn: 0.9512624\ttotal: 1.84s\tremaining: 7.24s\n",
      "203:\tlearn: 0.9486786\ttotal: 1.85s\tremaining: 7.22s\n",
      "204:\tlearn: 0.9454490\ttotal: 1.86s\tremaining: 7.2s\n",
      "205:\tlearn: 0.9431655\ttotal: 1.86s\tremaining: 7.18s\n",
      "206:\tlearn: 0.9409000\ttotal: 1.87s\tremaining: 7.16s\n",
      "207:\tlearn: 0.9401435\ttotal: 1.88s\tremaining: 7.15s\n",
      "208:\tlearn: 0.9390023\ttotal: 1.88s\tremaining: 7.13s\n",
      "209:\tlearn: 0.9372166\ttotal: 1.89s\tremaining: 7.12s\n",
      "210:\tlearn: 0.9354449\ttotal: 1.9s\tremaining: 7.11s\n",
      "211:\tlearn: 0.9345805\ttotal: 1.91s\tremaining: 7.1s\n",
      "212:\tlearn: 0.9303264\ttotal: 1.92s\tremaining: 7.09s\n",
      "213:\tlearn: 0.9265036\ttotal: 1.93s\tremaining: 7.07s\n",
      "214:\tlearn: 0.9245750\ttotal: 1.93s\tremaining: 7.06s\n",
      "215:\tlearn: 0.9232175\ttotal: 1.94s\tremaining: 7.04s\n",
      "216:\tlearn: 0.9216368\ttotal: 1.95s\tremaining: 7.03s\n",
      "217:\tlearn: 0.9173828\ttotal: 1.95s\tremaining: 7.01s\n",
      "218:\tlearn: 0.9153373\ttotal: 1.96s\tremaining: 7s\n",
      "219:\tlearn: 0.9128736\ttotal: 1.97s\tremaining: 6.98s\n",
      "220:\tlearn: 0.9095574\ttotal: 1.98s\tremaining: 6.96s\n",
      "221:\tlearn: 0.9076012\ttotal: 1.98s\tremaining: 6.95s\n",
      "222:\tlearn: 0.9064882\ttotal: 1.99s\tremaining: 6.93s\n",
      "223:\tlearn: 0.9031853\ttotal: 1.99s\tremaining: 6.91s\n",
      "224:\tlearn: 0.9025761\ttotal: 2s\tremaining: 6.89s\n",
      "225:\tlearn: 0.9001516\ttotal: 2.01s\tremaining: 6.88s\n",
      "226:\tlearn: 0.8956903\ttotal: 2.01s\tremaining: 6.86s\n",
      "227:\tlearn: 0.8950492\ttotal: 2.02s\tremaining: 6.85s\n",
      "228:\tlearn: 0.8939650\ttotal: 2.03s\tremaining: 6.83s\n",
      "229:\tlearn: 0.8934271\ttotal: 2.04s\tremaining: 6.81s\n",
      "230:\tlearn: 0.8902882\ttotal: 2.04s\tremaining: 6.8s\n",
      "231:\tlearn: 0.8860526\ttotal: 2.05s\tremaining: 6.78s\n",
      "232:\tlearn: 0.8830529\ttotal: 2.05s\tremaining: 6.76s\n",
      "233:\tlearn: 0.8789352\ttotal: 2.06s\tremaining: 6.75s\n",
      "234:\tlearn: 0.8769797\ttotal: 2.07s\tremaining: 6.74s\n",
      "235:\tlearn: 0.8750185\ttotal: 2.08s\tremaining: 6.72s\n",
      "236:\tlearn: 0.8707421\ttotal: 2.08s\tremaining: 6.71s\n",
      "237:\tlearn: 0.8682311\ttotal: 2.1s\tremaining: 6.71s\n",
      "238:\tlearn: 0.8671166\ttotal: 2.1s\tremaining: 6.7s\n",
      "239:\tlearn: 0.8649851\ttotal: 2.11s\tremaining: 6.69s\n",
      "240:\tlearn: 0.8605860\ttotal: 2.12s\tremaining: 6.68s\n",
      "241:\tlearn: 0.8578475\ttotal: 2.13s\tremaining: 6.67s\n",
      "242:\tlearn: 0.8543100\ttotal: 2.13s\tremaining: 6.65s\n",
      "243:\tlearn: 0.8500583\ttotal: 2.14s\tremaining: 6.64s\n",
      "244:\tlearn: 0.8484596\ttotal: 2.15s\tremaining: 6.62s\n",
      "245:\tlearn: 0.8456510\ttotal: 2.16s\tremaining: 6.61s\n",
      "246:\tlearn: 0.8428069\ttotal: 2.16s\tremaining: 6.59s\n",
      "247:\tlearn: 0.8391803\ttotal: 2.17s\tremaining: 6.58s\n",
      "248:\tlearn: 0.8359104\ttotal: 2.17s\tremaining: 6.56s\n",
      "249:\tlearn: 0.8324776\ttotal: 2.18s\tremaining: 6.55s\n",
      "250:\tlearn: 0.8313947\ttotal: 2.19s\tremaining: 6.54s\n",
      "251:\tlearn: 0.8280097\ttotal: 2.2s\tremaining: 6.52s\n",
      "252:\tlearn: 0.8243479\ttotal: 2.21s\tremaining: 6.51s\n",
      "253:\tlearn: 0.8219673\ttotal: 2.21s\tremaining: 6.49s\n",
      "254:\tlearn: 0.8189383\ttotal: 2.22s\tremaining: 6.48s\n",
      "255:\tlearn: 0.8160532\ttotal: 2.23s\tremaining: 6.47s\n",
      "256:\tlearn: 0.8126752\ttotal: 2.23s\tremaining: 6.46s\n",
      "257:\tlearn: 0.8097505\ttotal: 2.24s\tremaining: 6.45s\n",
      "258:\tlearn: 0.8068997\ttotal: 2.25s\tremaining: 6.44s\n",
      "259:\tlearn: 0.8057543\ttotal: 2.26s\tremaining: 6.42s\n",
      "260:\tlearn: 0.8028137\ttotal: 2.27s\tremaining: 6.41s\n",
      "261:\tlearn: 0.8004218\ttotal: 2.27s\tremaining: 6.4s\n",
      "262:\tlearn: 0.7971549\ttotal: 2.28s\tremaining: 6.39s\n",
      "263:\tlearn: 0.7945314\ttotal: 2.29s\tremaining: 6.39s\n",
      "264:\tlearn: 0.7926334\ttotal: 2.3s\tremaining: 6.39s\n",
      "265:\tlearn: 0.7888989\ttotal: 2.31s\tremaining: 6.38s\n",
      "266:\tlearn: 0.7880619\ttotal: 2.32s\tremaining: 6.37s\n",
      "267:\tlearn: 0.7847545\ttotal: 2.33s\tremaining: 6.36s\n",
      "268:\tlearn: 0.7843040\ttotal: 2.33s\tremaining: 6.34s\n",
      "269:\tlearn: 0.7805037\ttotal: 2.34s\tremaining: 6.33s\n",
      "270:\tlearn: 0.7799659\ttotal: 2.35s\tremaining: 6.32s\n",
      "271:\tlearn: 0.7771808\ttotal: 2.35s\tremaining: 6.3s\n",
      "272:\tlearn: 0.7754928\ttotal: 2.36s\tremaining: 6.29s\n",
      "273:\tlearn: 0.7729100\ttotal: 2.37s\tremaining: 6.27s\n",
      "274:\tlearn: 0.7700297\ttotal: 2.38s\tremaining: 6.26s\n",
      "275:\tlearn: 0.7664182\ttotal: 2.38s\tremaining: 6.25s\n",
      "276:\tlearn: 0.7659323\ttotal: 2.39s\tremaining: 6.24s\n",
      "277:\tlearn: 0.7627684\ttotal: 2.4s\tremaining: 6.23s\n",
      "278:\tlearn: 0.7624535\ttotal: 2.4s\tremaining: 6.21s\n",
      "279:\tlearn: 0.7601572\ttotal: 2.41s\tremaining: 6.2s\n",
      "280:\tlearn: 0.7578695\ttotal: 2.42s\tremaining: 6.19s\n",
      "281:\tlearn: 0.7565559\ttotal: 2.43s\tremaining: 6.18s\n",
      "282:\tlearn: 0.7542084\ttotal: 2.44s\tremaining: 6.17s\n",
      "283:\tlearn: 0.7519675\ttotal: 2.44s\tremaining: 6.16s\n",
      "284:\tlearn: 0.7479779\ttotal: 2.45s\tremaining: 6.15s\n",
      "285:\tlearn: 0.7469015\ttotal: 2.46s\tremaining: 6.15s\n",
      "286:\tlearn: 0.7446897\ttotal: 2.47s\tremaining: 6.14s\n",
      "287:\tlearn: 0.7422310\ttotal: 2.48s\tremaining: 6.14s\n",
      "288:\tlearn: 0.7407145\ttotal: 2.49s\tremaining: 6.13s\n",
      "289:\tlearn: 0.7387734\ttotal: 2.51s\tremaining: 6.14s\n",
      "290:\tlearn: 0.7383459\ttotal: 2.52s\tremaining: 6.13s\n",
      "291:\tlearn: 0.7356439\ttotal: 2.52s\tremaining: 6.12s\n",
      "292:\tlearn: 0.7348055\ttotal: 2.53s\tremaining: 6.11s\n",
      "293:\tlearn: 0.7342377\ttotal: 2.54s\tremaining: 6.1s\n",
      "294:\tlearn: 0.7312317\ttotal: 2.55s\tremaining: 6.08s\n",
      "295:\tlearn: 0.7304737\ttotal: 2.55s\tremaining: 6.07s\n",
      "296:\tlearn: 0.7277950\ttotal: 2.56s\tremaining: 6.06s\n",
      "297:\tlearn: 0.7250804\ttotal: 2.57s\tremaining: 6.05s\n",
      "298:\tlearn: 0.7227407\ttotal: 2.58s\tremaining: 6.04s\n",
      "299:\tlearn: 0.7223971\ttotal: 2.58s\tremaining: 6.03s\n",
      "300:\tlearn: 0.7193428\ttotal: 2.59s\tremaining: 6.01s\n",
      "301:\tlearn: 0.7171435\ttotal: 2.6s\tremaining: 6s\n",
      "302:\tlearn: 0.7152493\ttotal: 2.6s\tremaining: 5.99s\n",
      "303:\tlearn: 0.7136544\ttotal: 2.61s\tremaining: 5.98s\n",
      "304:\tlearn: 0.7133645\ttotal: 2.62s\tremaining: 5.96s\n",
      "305:\tlearn: 0.7130822\ttotal: 2.62s\tremaining: 5.95s\n",
      "306:\tlearn: 0.7100829\ttotal: 2.63s\tremaining: 5.93s\n",
      "307:\tlearn: 0.7097632\ttotal: 2.63s\tremaining: 5.92s\n",
      "308:\tlearn: 0.7075625\ttotal: 2.64s\tremaining: 5.91s\n",
      "309:\tlearn: 0.7050153\ttotal: 2.65s\tremaining: 5.9s\n",
      "310:\tlearn: 0.7031693\ttotal: 2.66s\tremaining: 5.89s\n",
      "311:\tlearn: 0.7020345\ttotal: 2.67s\tremaining: 5.88s\n",
      "312:\tlearn: 0.7005282\ttotal: 2.67s\tremaining: 5.87s\n",
      "313:\tlearn: 0.7000660\ttotal: 2.68s\tremaining: 5.86s\n",
      "314:\tlearn: 0.6980878\ttotal: 2.69s\tremaining: 5.85s\n",
      "315:\tlearn: 0.6967777\ttotal: 2.7s\tremaining: 5.84s\n",
      "316:\tlearn: 0.6940739\ttotal: 2.7s\tremaining: 5.83s\n",
      "317:\tlearn: 0.6920609\ttotal: 2.71s\tremaining: 5.81s\n",
      "318:\tlearn: 0.6916362\ttotal: 2.72s\tremaining: 5.8s\n",
      "319:\tlearn: 0.6896576\ttotal: 2.72s\tremaining: 5.79s\n",
      "320:\tlearn: 0.6894150\ttotal: 2.73s\tremaining: 5.77s\n",
      "321:\tlearn: 0.6891267\ttotal: 2.73s\tremaining: 5.76s\n",
      "322:\tlearn: 0.6870070\ttotal: 2.74s\tremaining: 5.75s\n",
      "323:\tlearn: 0.6859213\ttotal: 2.76s\tremaining: 5.76s\n",
      "324:\tlearn: 0.6841952\ttotal: 2.77s\tremaining: 5.75s\n",
      "325:\tlearn: 0.6836194\ttotal: 2.77s\tremaining: 5.73s\n",
      "326:\tlearn: 0.6818834\ttotal: 2.78s\tremaining: 5.72s\n",
      "327:\tlearn: 0.6789607\ttotal: 2.78s\tremaining: 5.71s\n",
      "328:\tlearn: 0.6760634\ttotal: 2.79s\tremaining: 5.69s\n",
      "329:\tlearn: 0.6755387\ttotal: 2.8s\tremaining: 5.68s\n",
      "330:\tlearn: 0.6753161\ttotal: 2.8s\tremaining: 5.67s\n",
      "331:\tlearn: 0.6727459\ttotal: 2.81s\tremaining: 5.66s\n",
      "332:\tlearn: 0.6724697\ttotal: 2.82s\tremaining: 5.65s\n",
      "333:\tlearn: 0.6722491\ttotal: 2.83s\tremaining: 5.64s\n",
      "334:\tlearn: 0.6717272\ttotal: 2.84s\tremaining: 5.63s\n",
      "335:\tlearn: 0.6694874\ttotal: 2.84s\tremaining: 5.62s\n",
      "336:\tlearn: 0.6676743\ttotal: 2.85s\tremaining: 5.61s\n",
      "337:\tlearn: 0.6654076\ttotal: 2.86s\tremaining: 5.6s\n",
      "338:\tlearn: 0.6643624\ttotal: 2.86s\tremaining: 5.59s\n",
      "339:\tlearn: 0.6640549\ttotal: 2.87s\tremaining: 5.58s\n",
      "340:\tlearn: 0.6635935\ttotal: 2.88s\tremaining: 5.57s\n",
      "341:\tlearn: 0.6632449\ttotal: 2.89s\tremaining: 5.55s\n",
      "342:\tlearn: 0.6617356\ttotal: 2.89s\tremaining: 5.54s\n",
      "343:\tlearn: 0.6604280\ttotal: 2.9s\tremaining: 5.53s\n",
      "344:\tlearn: 0.6584663\ttotal: 2.91s\tremaining: 5.53s\n",
      "345:\tlearn: 0.6581476\ttotal: 2.92s\tremaining: 5.52s\n",
      "346:\tlearn: 0.6565860\ttotal: 2.92s\tremaining: 5.5s\n",
      "347:\tlearn: 0.6541267\ttotal: 2.93s\tremaining: 5.49s\n",
      "348:\tlearn: 0.6522033\ttotal: 2.94s\tremaining: 5.48s\n",
      "349:\tlearn: 0.6493483\ttotal: 2.94s\tremaining: 5.47s\n",
      "350:\tlearn: 0.6475525\ttotal: 2.95s\tremaining: 5.46s\n",
      "351:\tlearn: 0.6450485\ttotal: 2.96s\tremaining: 5.44s\n",
      "352:\tlearn: 0.6423497\ttotal: 2.96s\tremaining: 5.43s\n",
      "353:\tlearn: 0.6418050\ttotal: 2.97s\tremaining: 5.42s\n",
      "354:\tlearn: 0.6394099\ttotal: 2.98s\tremaining: 5.41s\n",
      "355:\tlearn: 0.6376501\ttotal: 2.98s\tremaining: 5.4s\n",
      "356:\tlearn: 0.6348155\ttotal: 3s\tremaining: 5.39s\n",
      "357:\tlearn: 0.6334293\ttotal: 3s\tremaining: 5.38s\n",
      "358:\tlearn: 0.6314778\ttotal: 3.01s\tremaining: 5.38s\n",
      "359:\tlearn: 0.6289648\ttotal: 3.02s\tremaining: 5.37s\n",
      "360:\tlearn: 0.6270346\ttotal: 3.02s\tremaining: 5.36s\n",
      "361:\tlearn: 0.6267011\ttotal: 3.03s\tremaining: 5.34s\n",
      "362:\tlearn: 0.6242143\ttotal: 3.04s\tremaining: 5.34s\n",
      "363:\tlearn: 0.6222050\ttotal: 3.05s\tremaining: 5.33s\n",
      "364:\tlearn: 0.6215471\ttotal: 3.06s\tremaining: 5.32s\n",
      "365:\tlearn: 0.6212746\ttotal: 3.06s\tremaining: 5.3s\n",
      "366:\tlearn: 0.6209860\ttotal: 3.07s\tremaining: 5.29s\n",
      "367:\tlearn: 0.6191895\ttotal: 3.08s\tremaining: 5.28s\n",
      "368:\tlearn: 0.6176870\ttotal: 3.08s\tremaining: 5.27s\n",
      "369:\tlearn: 0.6153690\ttotal: 3.09s\tremaining: 5.26s\n",
      "370:\tlearn: 0.6141857\ttotal: 3.1s\tremaining: 5.25s\n",
      "371:\tlearn: 0.6125778\ttotal: 3.1s\tremaining: 5.24s\n",
      "372:\tlearn: 0.6109118\ttotal: 3.11s\tremaining: 5.22s\n",
      "373:\tlearn: 0.6106469\ttotal: 3.12s\tremaining: 5.22s\n",
      "374:\tlearn: 0.6090906\ttotal: 3.13s\tremaining: 5.21s\n",
      "375:\tlearn: 0.6087570\ttotal: 3.14s\tremaining: 5.21s\n",
      "376:\tlearn: 0.6070899\ttotal: 3.15s\tremaining: 5.2s\n",
      "377:\tlearn: 0.6068539\ttotal: 3.15s\tremaining: 5.19s\n",
      "378:\tlearn: 0.6054240\ttotal: 3.16s\tremaining: 5.18s\n",
      "379:\tlearn: 0.6027629\ttotal: 3.17s\tremaining: 5.17s\n",
      "380:\tlearn: 0.6015682\ttotal: 3.18s\tremaining: 5.16s\n",
      "381:\tlearn: 0.5997403\ttotal: 3.18s\tremaining: 5.15s\n",
      "382:\tlearn: 0.5987934\ttotal: 3.19s\tremaining: 5.14s\n",
      "383:\tlearn: 0.5985955\ttotal: 3.2s\tremaining: 5.14s\n",
      "384:\tlearn: 0.5968323\ttotal: 3.21s\tremaining: 5.13s\n",
      "385:\tlearn: 0.5946970\ttotal: 3.22s\tremaining: 5.13s\n",
      "386:\tlearn: 0.5925841\ttotal: 3.23s\tremaining: 5.12s\n",
      "387:\tlearn: 0.5915681\ttotal: 3.24s\tremaining: 5.12s\n",
      "388:\tlearn: 0.5900991\ttotal: 3.25s\tremaining: 5.11s\n",
      "389:\tlearn: 0.5893654\ttotal: 3.26s\tremaining: 5.1s\n",
      "390:\tlearn: 0.5890407\ttotal: 3.27s\tremaining: 5.09s\n",
      "391:\tlearn: 0.5870217\ttotal: 3.28s\tremaining: 5.09s\n",
      "392:\tlearn: 0.5852372\ttotal: 3.29s\tremaining: 5.08s\n",
      "393:\tlearn: 0.5833691\ttotal: 3.3s\tremaining: 5.07s\n",
      "394:\tlearn: 0.5821327\ttotal: 3.31s\tremaining: 5.06s\n",
      "395:\tlearn: 0.5807091\ttotal: 3.31s\tremaining: 5.06s\n",
      "396:\tlearn: 0.5802953\ttotal: 3.32s\tremaining: 5.05s\n",
      "397:\tlearn: 0.5800603\ttotal: 3.34s\tremaining: 5.04s\n",
      "398:\tlearn: 0.5777695\ttotal: 3.35s\tremaining: 5.04s\n",
      "399:\tlearn: 0.5762979\ttotal: 3.35s\tremaining: 5.03s\n",
      "400:\tlearn: 0.5742269\ttotal: 3.36s\tremaining: 5.02s\n",
      "401:\tlearn: 0.5735990\ttotal: 3.37s\tremaining: 5.02s\n",
      "402:\tlearn: 0.5733452\ttotal: 3.38s\tremaining: 5.01s\n",
      "403:\tlearn: 0.5723252\ttotal: 3.4s\tremaining: 5.01s\n",
      "404:\tlearn: 0.5720591\ttotal: 3.41s\tremaining: 5s\n",
      "405:\tlearn: 0.5704719\ttotal: 3.42s\tremaining: 5s\n",
      "406:\tlearn: 0.5688433\ttotal: 3.43s\tremaining: 5s\n",
      "407:\tlearn: 0.5676131\ttotal: 3.44s\tremaining: 5s\n",
      "408:\tlearn: 0.5666548\ttotal: 3.46s\tremaining: 5s\n",
      "409:\tlearn: 0.5659377\ttotal: 3.47s\tremaining: 4.99s\n",
      "410:\tlearn: 0.5655015\ttotal: 3.48s\tremaining: 4.99s\n",
      "411:\tlearn: 0.5641359\ttotal: 3.49s\tremaining: 4.98s\n",
      "412:\tlearn: 0.5638917\ttotal: 3.5s\tremaining: 4.97s\n",
      "413:\tlearn: 0.5625555\ttotal: 3.51s\tremaining: 4.96s\n",
      "414:\tlearn: 0.5623422\ttotal: 3.52s\tremaining: 4.96s\n",
      "415:\tlearn: 0.5615727\ttotal: 3.53s\tremaining: 4.95s\n",
      "416:\tlearn: 0.5609737\ttotal: 3.54s\tremaining: 4.95s\n",
      "417:\tlearn: 0.5603259\ttotal: 3.54s\tremaining: 4.94s\n",
      "418:\tlearn: 0.5581077\ttotal: 3.55s\tremaining: 4.93s\n",
      "419:\tlearn: 0.5566553\ttotal: 3.56s\tremaining: 4.92s\n",
      "420:\tlearn: 0.5552769\ttotal: 3.57s\tremaining: 4.91s\n",
      "421:\tlearn: 0.5551118\ttotal: 3.58s\tremaining: 4.91s\n",
      "422:\tlearn: 0.5537599\ttotal: 3.6s\tremaining: 4.91s\n",
      "423:\tlearn: 0.5521214\ttotal: 3.61s\tremaining: 4.9s\n",
      "424:\tlearn: 0.5512328\ttotal: 3.62s\tremaining: 4.89s\n",
      "425:\tlearn: 0.5483359\ttotal: 3.62s\tremaining: 4.88s\n",
      "426:\tlearn: 0.5475275\ttotal: 3.63s\tremaining: 4.88s\n",
      "427:\tlearn: 0.5457077\ttotal: 3.64s\tremaining: 4.87s\n",
      "428:\tlearn: 0.5443227\ttotal: 3.65s\tremaining: 4.86s\n",
      "429:\tlearn: 0.5441293\ttotal: 3.66s\tremaining: 4.86s\n",
      "430:\tlearn: 0.5439661\ttotal: 3.67s\tremaining: 4.85s\n",
      "431:\tlearn: 0.5420264\ttotal: 3.68s\tremaining: 4.84s\n",
      "432:\tlearn: 0.5406026\ttotal: 3.69s\tremaining: 4.83s\n",
      "433:\tlearn: 0.5403467\ttotal: 3.7s\tremaining: 4.82s\n",
      "434:\tlearn: 0.5373767\ttotal: 3.71s\tremaining: 4.82s\n",
      "435:\tlearn: 0.5371902\ttotal: 3.72s\tremaining: 4.81s\n",
      "436:\tlearn: 0.5357574\ttotal: 3.73s\tremaining: 4.8s\n",
      "437:\tlearn: 0.5356004\ttotal: 3.74s\tremaining: 4.8s\n",
      "438:\tlearn: 0.5337387\ttotal: 3.75s\tremaining: 4.79s\n",
      "439:\tlearn: 0.5335667\ttotal: 3.77s\tremaining: 4.8s\n",
      "440:\tlearn: 0.5323789\ttotal: 3.79s\tremaining: 4.81s\n",
      "441:\tlearn: 0.5301378\ttotal: 3.8s\tremaining: 4.8s\n",
      "442:\tlearn: 0.5287001\ttotal: 3.81s\tremaining: 4.79s\n",
      "443:\tlearn: 0.5269594\ttotal: 3.82s\tremaining: 4.78s\n",
      "444:\tlearn: 0.5255189\ttotal: 3.83s\tremaining: 4.78s\n",
      "445:\tlearn: 0.5240199\ttotal: 3.84s\tremaining: 4.77s\n",
      "446:\tlearn: 0.5230425\ttotal: 3.85s\tremaining: 4.76s\n",
      "447:\tlearn: 0.5220506\ttotal: 3.86s\tremaining: 4.75s\n",
      "448:\tlearn: 0.5214773\ttotal: 3.86s\tremaining: 4.74s\n",
      "449:\tlearn: 0.5204531\ttotal: 3.87s\tremaining: 4.73s\n",
      "450:\tlearn: 0.5190355\ttotal: 3.88s\tremaining: 4.73s\n",
      "451:\tlearn: 0.5178591\ttotal: 3.89s\tremaining: 4.72s\n",
      "452:\tlearn: 0.5176834\ttotal: 3.9s\tremaining: 4.71s\n",
      "453:\tlearn: 0.5168629\ttotal: 3.91s\tremaining: 4.7s\n",
      "454:\tlearn: 0.5161248\ttotal: 3.92s\tremaining: 4.7s\n",
      "455:\tlearn: 0.5150759\ttotal: 3.93s\tremaining: 4.69s\n",
      "456:\tlearn: 0.5143646\ttotal: 3.94s\tremaining: 4.68s\n",
      "457:\tlearn: 0.5127954\ttotal: 3.95s\tremaining: 4.67s\n",
      "458:\tlearn: 0.5125533\ttotal: 3.96s\tremaining: 4.66s\n",
      "459:\tlearn: 0.5115022\ttotal: 3.96s\tremaining: 4.66s\n",
      "460:\tlearn: 0.5098643\ttotal: 3.98s\tremaining: 4.65s\n",
      "461:\tlearn: 0.5081846\ttotal: 3.98s\tremaining: 4.64s\n",
      "462:\tlearn: 0.5065899\ttotal: 3.99s\tremaining: 4.63s\n",
      "463:\tlearn: 0.5054649\ttotal: 4s\tremaining: 4.62s\n",
      "464:\tlearn: 0.5042800\ttotal: 4.01s\tremaining: 4.62s\n",
      "465:\tlearn: 0.5040860\ttotal: 4.02s\tremaining: 4.61s\n",
      "466:\tlearn: 0.5030237\ttotal: 4.03s\tremaining: 4.6s\n",
      "467:\tlearn: 0.5021134\ttotal: 4.04s\tremaining: 4.59s\n",
      "468:\tlearn: 0.5014815\ttotal: 4.04s\tremaining: 4.58s\n",
      "469:\tlearn: 0.5000419\ttotal: 4.05s\tremaining: 4.57s\n",
      "470:\tlearn: 0.4990330\ttotal: 4.06s\tremaining: 4.56s\n",
      "471:\tlearn: 0.4977227\ttotal: 4.07s\tremaining: 4.55s\n",
      "472:\tlearn: 0.4965410\ttotal: 4.08s\tremaining: 4.54s\n",
      "473:\tlearn: 0.4950826\ttotal: 4.09s\tremaining: 4.54s\n",
      "474:\tlearn: 0.4937941\ttotal: 4.09s\tremaining: 4.53s\n",
      "475:\tlearn: 0.4935413\ttotal: 4.1s\tremaining: 4.52s\n",
      "476:\tlearn: 0.4924630\ttotal: 4.11s\tremaining: 4.51s\n",
      "477:\tlearn: 0.4920643\ttotal: 4.13s\tremaining: 4.5s\n",
      "478:\tlearn: 0.4918949\ttotal: 4.14s\tremaining: 4.5s\n",
      "479:\tlearn: 0.4917244\ttotal: 4.15s\tremaining: 4.5s\n",
      "480:\tlearn: 0.4915597\ttotal: 4.17s\tremaining: 4.5s\n",
      "481:\tlearn: 0.4904334\ttotal: 4.18s\tremaining: 4.49s\n",
      "482:\tlearn: 0.4888596\ttotal: 4.19s\tremaining: 4.49s\n",
      "483:\tlearn: 0.4886829\ttotal: 4.2s\tremaining: 4.48s\n",
      "484:\tlearn: 0.4880032\ttotal: 4.21s\tremaining: 4.47s\n",
      "485:\tlearn: 0.4878941\ttotal: 4.22s\tremaining: 4.46s\n",
      "486:\tlearn: 0.4872458\ttotal: 4.23s\tremaining: 4.46s\n",
      "487:\tlearn: 0.4871097\ttotal: 4.24s\tremaining: 4.45s\n",
      "488:\tlearn: 0.4855112\ttotal: 4.25s\tremaining: 4.45s\n",
      "489:\tlearn: 0.4845218\ttotal: 4.26s\tremaining: 4.44s\n",
      "490:\tlearn: 0.4835383\ttotal: 4.28s\tremaining: 4.43s\n",
      "491:\tlearn: 0.4832822\ttotal: 4.28s\tremaining: 4.42s\n",
      "492:\tlearn: 0.4820611\ttotal: 4.29s\tremaining: 4.42s\n",
      "493:\tlearn: 0.4819388\ttotal: 4.3s\tremaining: 4.41s\n",
      "494:\tlearn: 0.4801426\ttotal: 4.31s\tremaining: 4.4s\n",
      "495:\tlearn: 0.4781101\ttotal: 4.33s\tremaining: 4.39s\n",
      "496:\tlearn: 0.4769296\ttotal: 4.34s\tremaining: 4.39s\n",
      "497:\tlearn: 0.4750984\ttotal: 4.36s\tremaining: 4.39s\n",
      "498:\tlearn: 0.4739960\ttotal: 4.36s\tremaining: 4.38s\n",
      "499:\tlearn: 0.4732335\ttotal: 4.37s\tremaining: 4.37s\n",
      "500:\tlearn: 0.4730291\ttotal: 4.39s\tremaining: 4.37s\n",
      "501:\tlearn: 0.4715606\ttotal: 4.4s\tremaining: 4.36s\n",
      "502:\tlearn: 0.4706774\ttotal: 4.41s\tremaining: 4.35s\n",
      "503:\tlearn: 0.4705223\ttotal: 4.42s\tremaining: 4.34s\n",
      "504:\tlearn: 0.4696911\ttotal: 4.42s\tremaining: 4.34s\n",
      "505:\tlearn: 0.4690916\ttotal: 4.44s\tremaining: 4.33s\n",
      "506:\tlearn: 0.4685490\ttotal: 4.45s\tremaining: 4.32s\n",
      "507:\tlearn: 0.4673536\ttotal: 4.46s\tremaining: 4.32s\n",
      "508:\tlearn: 0.4671974\ttotal: 4.47s\tremaining: 4.31s\n",
      "509:\tlearn: 0.4656408\ttotal: 4.48s\tremaining: 4.3s\n",
      "510:\tlearn: 0.4655107\ttotal: 4.49s\tremaining: 4.29s\n",
      "511:\tlearn: 0.4649114\ttotal: 4.5s\tremaining: 4.29s\n",
      "512:\tlearn: 0.4640915\ttotal: 4.5s\tremaining: 4.28s\n",
      "513:\tlearn: 0.4639982\ttotal: 4.52s\tremaining: 4.27s\n",
      "514:\tlearn: 0.4638802\ttotal: 4.53s\tremaining: 4.26s\n",
      "515:\tlearn: 0.4635669\ttotal: 4.54s\tremaining: 4.26s\n",
      "516:\tlearn: 0.4627686\ttotal: 4.55s\tremaining: 4.25s\n",
      "517:\tlearn: 0.4618212\ttotal: 4.56s\tremaining: 4.24s\n",
      "518:\tlearn: 0.4606276\ttotal: 4.57s\tremaining: 4.23s\n",
      "519:\tlearn: 0.4592677\ttotal: 4.57s\tremaining: 4.22s\n",
      "520:\tlearn: 0.4577151\ttotal: 4.58s\tremaining: 4.21s\n",
      "521:\tlearn: 0.4565664\ttotal: 4.59s\tremaining: 4.2s\n",
      "522:\tlearn: 0.4549274\ttotal: 4.6s\tremaining: 4.19s\n",
      "523:\tlearn: 0.4542867\ttotal: 4.61s\tremaining: 4.18s\n",
      "524:\tlearn: 0.4540329\ttotal: 4.61s\tremaining: 4.17s\n",
      "525:\tlearn: 0.4537629\ttotal: 4.62s\tremaining: 4.16s\n",
      "526:\tlearn: 0.4536322\ttotal: 4.63s\tremaining: 4.15s\n",
      "527:\tlearn: 0.4519741\ttotal: 4.63s\tremaining: 4.14s\n",
      "528:\tlearn: 0.4507452\ttotal: 4.64s\tremaining: 4.13s\n",
      "529:\tlearn: 0.4495291\ttotal: 4.65s\tremaining: 4.12s\n",
      "530:\tlearn: 0.4486032\ttotal: 4.66s\tremaining: 4.11s\n",
      "531:\tlearn: 0.4473632\ttotal: 4.66s\tremaining: 4.1s\n",
      "532:\tlearn: 0.4459194\ttotal: 4.67s\tremaining: 4.09s\n",
      "533:\tlearn: 0.4448716\ttotal: 4.68s\tremaining: 4.08s\n",
      "534:\tlearn: 0.4437855\ttotal: 4.68s\tremaining: 4.07s\n",
      "535:\tlearn: 0.4431066\ttotal: 4.69s\tremaining: 4.06s\n",
      "536:\tlearn: 0.4429800\ttotal: 4.7s\tremaining: 4.05s\n",
      "537:\tlearn: 0.4421658\ttotal: 4.71s\tremaining: 4.04s\n",
      "538:\tlearn: 0.4410840\ttotal: 4.72s\tremaining: 4.03s\n",
      "539:\tlearn: 0.4400995\ttotal: 4.72s\tremaining: 4.03s\n",
      "540:\tlearn: 0.4391716\ttotal: 4.73s\tremaining: 4.01s\n",
      "541:\tlearn: 0.4385377\ttotal: 4.74s\tremaining: 4s\n",
      "542:\tlearn: 0.4375482\ttotal: 4.75s\tremaining: 4s\n",
      "543:\tlearn: 0.4374146\ttotal: 4.76s\tremaining: 3.99s\n",
      "544:\tlearn: 0.4359885\ttotal: 4.76s\tremaining: 3.98s\n",
      "545:\tlearn: 0.4355852\ttotal: 4.77s\tremaining: 3.97s\n",
      "546:\tlearn: 0.4346311\ttotal: 4.78s\tremaining: 3.96s\n",
      "547:\tlearn: 0.4345565\ttotal: 4.79s\tremaining: 3.95s\n",
      "548:\tlearn: 0.4338360\ttotal: 4.8s\tremaining: 3.94s\n",
      "549:\tlearn: 0.4327798\ttotal: 4.81s\tremaining: 3.93s\n",
      "550:\tlearn: 0.4321917\ttotal: 4.81s\tremaining: 3.92s\n",
      "551:\tlearn: 0.4320653\ttotal: 4.82s\tremaining: 3.91s\n",
      "552:\tlearn: 0.4319594\ttotal: 4.83s\tremaining: 3.9s\n",
      "553:\tlearn: 0.4311055\ttotal: 4.84s\tremaining: 3.9s\n",
      "554:\tlearn: 0.4301474\ttotal: 4.85s\tremaining: 3.89s\n",
      "555:\tlearn: 0.4291243\ttotal: 4.86s\tremaining: 3.88s\n",
      "556:\tlearn: 0.4290153\ttotal: 4.87s\tremaining: 3.87s\n",
      "557:\tlearn: 0.4283816\ttotal: 4.87s\tremaining: 3.86s\n",
      "558:\tlearn: 0.4269895\ttotal: 4.88s\tremaining: 3.85s\n",
      "559:\tlearn: 0.4259130\ttotal: 4.9s\tremaining: 3.85s\n",
      "560:\tlearn: 0.4257886\ttotal: 4.91s\tremaining: 3.84s\n",
      "561:\tlearn: 0.4245552\ttotal: 4.92s\tremaining: 3.83s\n",
      "562:\tlearn: 0.4243428\ttotal: 4.93s\tremaining: 3.83s\n",
      "563:\tlearn: 0.4242487\ttotal: 4.94s\tremaining: 3.82s\n",
      "564:\tlearn: 0.4233681\ttotal: 4.95s\tremaining: 3.81s\n",
      "565:\tlearn: 0.4232966\ttotal: 4.96s\tremaining: 3.8s\n",
      "566:\tlearn: 0.4226141\ttotal: 4.97s\tremaining: 3.79s\n",
      "567:\tlearn: 0.4224914\ttotal: 4.97s\tremaining: 3.78s\n",
      "568:\tlearn: 0.4223929\ttotal: 4.98s\tremaining: 3.77s\n",
      "569:\tlearn: 0.4222503\ttotal: 4.99s\tremaining: 3.77s\n",
      "570:\tlearn: 0.4221657\ttotal: 5s\tremaining: 3.76s\n",
      "571:\tlearn: 0.4217968\ttotal: 5.01s\tremaining: 3.75s\n",
      "572:\tlearn: 0.4205129\ttotal: 5.02s\tremaining: 3.74s\n",
      "573:\tlearn: 0.4204578\ttotal: 5.03s\tremaining: 3.73s\n",
      "574:\tlearn: 0.4192508\ttotal: 5.04s\tremaining: 3.72s\n",
      "575:\tlearn: 0.4190365\ttotal: 5.05s\tremaining: 3.71s\n",
      "576:\tlearn: 0.4175682\ttotal: 5.05s\tremaining: 3.71s\n",
      "577:\tlearn: 0.4166408\ttotal: 5.06s\tremaining: 3.7s\n",
      "578:\tlearn: 0.4165596\ttotal: 5.07s\tremaining: 3.69s\n",
      "579:\tlearn: 0.4153436\ttotal: 5.08s\tremaining: 3.68s\n",
      "580:\tlearn: 0.4150768\ttotal: 5.09s\tremaining: 3.67s\n",
      "581:\tlearn: 0.4149940\ttotal: 5.09s\tremaining: 3.66s\n",
      "582:\tlearn: 0.4142472\ttotal: 5.11s\tremaining: 3.66s\n",
      "583:\tlearn: 0.4133472\ttotal: 5.12s\tremaining: 3.65s\n",
      "584:\tlearn: 0.4125038\ttotal: 5.13s\tremaining: 3.64s\n",
      "585:\tlearn: 0.4124205\ttotal: 5.14s\tremaining: 3.63s\n",
      "586:\tlearn: 0.4114260\ttotal: 5.15s\tremaining: 3.62s\n",
      "587:\tlearn: 0.4104100\ttotal: 5.16s\tremaining: 3.61s\n",
      "588:\tlearn: 0.4093659\ttotal: 5.16s\tremaining: 3.6s\n",
      "589:\tlearn: 0.4087953\ttotal: 5.17s\tremaining: 3.59s\n",
      "590:\tlearn: 0.4081692\ttotal: 5.18s\tremaining: 3.58s\n",
      "591:\tlearn: 0.4080930\ttotal: 5.19s\tremaining: 3.57s\n",
      "592:\tlearn: 0.4080023\ttotal: 5.19s\tremaining: 3.56s\n",
      "593:\tlearn: 0.4071973\ttotal: 5.2s\tremaining: 3.56s\n",
      "594:\tlearn: 0.4058931\ttotal: 5.21s\tremaining: 3.55s\n",
      "595:\tlearn: 0.4052045\ttotal: 5.22s\tremaining: 3.54s\n",
      "596:\tlearn: 0.4046868\ttotal: 5.23s\tremaining: 3.53s\n",
      "597:\tlearn: 0.4035073\ttotal: 5.24s\tremaining: 3.52s\n",
      "598:\tlearn: 0.4024611\ttotal: 5.24s\tremaining: 3.51s\n",
      "599:\tlearn: 0.4015610\ttotal: 5.25s\tremaining: 3.5s\n",
      "600:\tlearn: 0.4006816\ttotal: 5.26s\tremaining: 3.49s\n",
      "601:\tlearn: 0.4000587\ttotal: 5.27s\tremaining: 3.48s\n",
      "602:\tlearn: 0.3990382\ttotal: 5.28s\tremaining: 3.47s\n",
      "603:\tlearn: 0.3982508\ttotal: 5.29s\tremaining: 3.47s\n",
      "604:\tlearn: 0.3973435\ttotal: 5.29s\tremaining: 3.46s\n",
      "605:\tlearn: 0.3970073\ttotal: 5.3s\tremaining: 3.45s\n",
      "606:\tlearn: 0.3959724\ttotal: 5.31s\tremaining: 3.44s\n",
      "607:\tlearn: 0.3950239\ttotal: 5.32s\tremaining: 3.43s\n",
      "608:\tlearn: 0.3940603\ttotal: 5.33s\tremaining: 3.42s\n",
      "609:\tlearn: 0.3939768\ttotal: 5.35s\tremaining: 3.42s\n",
      "610:\tlearn: 0.3939116\ttotal: 5.36s\tremaining: 3.41s\n",
      "611:\tlearn: 0.3928039\ttotal: 5.37s\tremaining: 3.4s\n",
      "612:\tlearn: 0.3923761\ttotal: 5.37s\tremaining: 3.39s\n",
      "613:\tlearn: 0.3914376\ttotal: 5.38s\tremaining: 3.38s\n",
      "614:\tlearn: 0.3903532\ttotal: 5.39s\tremaining: 3.37s\n",
      "615:\tlearn: 0.3894989\ttotal: 5.4s\tremaining: 3.36s\n",
      "616:\tlearn: 0.3893748\ttotal: 5.4s\tremaining: 3.35s\n",
      "617:\tlearn: 0.3892623\ttotal: 5.41s\tremaining: 3.35s\n",
      "618:\tlearn: 0.3885046\ttotal: 5.42s\tremaining: 3.33s\n",
      "619:\tlearn: 0.3871179\ttotal: 5.43s\tremaining: 3.33s\n",
      "620:\tlearn: 0.3862865\ttotal: 5.43s\tremaining: 3.32s\n",
      "621:\tlearn: 0.3860731\ttotal: 5.44s\tremaining: 3.31s\n",
      "622:\tlearn: 0.3856508\ttotal: 5.45s\tremaining: 3.3s\n",
      "623:\tlearn: 0.3855796\ttotal: 5.46s\tremaining: 3.29s\n",
      "624:\tlearn: 0.3847850\ttotal: 5.47s\tremaining: 3.28s\n",
      "625:\tlearn: 0.3846811\ttotal: 5.47s\tremaining: 3.27s\n",
      "626:\tlearn: 0.3837865\ttotal: 5.48s\tremaining: 3.26s\n",
      "627:\tlearn: 0.3836808\ttotal: 5.49s\tremaining: 3.25s\n",
      "628:\tlearn: 0.3823395\ttotal: 5.5s\tremaining: 3.24s\n",
      "629:\tlearn: 0.3812975\ttotal: 5.51s\tremaining: 3.23s\n",
      "630:\tlearn: 0.3808179\ttotal: 5.51s\tremaining: 3.22s\n",
      "631:\tlearn: 0.3803794\ttotal: 5.52s\tremaining: 3.21s\n",
      "632:\tlearn: 0.3794396\ttotal: 5.53s\tremaining: 3.2s\n",
      "633:\tlearn: 0.3789338\ttotal: 5.53s\tremaining: 3.19s\n",
      "634:\tlearn: 0.3788410\ttotal: 5.54s\tremaining: 3.19s\n",
      "635:\tlearn: 0.3787936\ttotal: 5.55s\tremaining: 3.18s\n",
      "636:\tlearn: 0.3787320\ttotal: 5.56s\tremaining: 3.17s\n",
      "637:\tlearn: 0.3786532\ttotal: 5.57s\tremaining: 3.16s\n",
      "638:\tlearn: 0.3780395\ttotal: 5.57s\tremaining: 3.15s\n",
      "639:\tlearn: 0.3772064\ttotal: 5.58s\tremaining: 3.14s\n",
      "640:\tlearn: 0.3771130\ttotal: 5.59s\tremaining: 3.13s\n",
      "641:\tlearn: 0.3764241\ttotal: 5.59s\tremaining: 3.12s\n",
      "642:\tlearn: 0.3756934\ttotal: 5.6s\tremaining: 3.11s\n",
      "643:\tlearn: 0.3746125\ttotal: 5.61s\tremaining: 3.1s\n",
      "644:\tlearn: 0.3741469\ttotal: 5.62s\tremaining: 3.09s\n",
      "645:\tlearn: 0.3735019\ttotal: 5.63s\tremaining: 3.08s\n",
      "646:\tlearn: 0.3734535\ttotal: 5.63s\tremaining: 3.07s\n",
      "647:\tlearn: 0.3723573\ttotal: 5.64s\tremaining: 3.06s\n",
      "648:\tlearn: 0.3716564\ttotal: 5.65s\tremaining: 3.06s\n",
      "649:\tlearn: 0.3704536\ttotal: 5.66s\tremaining: 3.05s\n",
      "650:\tlearn: 0.3702872\ttotal: 5.67s\tremaining: 3.04s\n",
      "651:\tlearn: 0.3702310\ttotal: 5.67s\tremaining: 3.03s\n",
      "652:\tlearn: 0.3701452\ttotal: 5.68s\tremaining: 3.02s\n",
      "653:\tlearn: 0.3699124\ttotal: 5.69s\tremaining: 3.01s\n",
      "654:\tlearn: 0.3692745\ttotal: 5.7s\tremaining: 3s\n",
      "655:\tlearn: 0.3680702\ttotal: 5.71s\tremaining: 2.99s\n",
      "656:\tlearn: 0.3673727\ttotal: 5.72s\tremaining: 2.98s\n",
      "657:\tlearn: 0.3672824\ttotal: 5.72s\tremaining: 2.98s\n",
      "658:\tlearn: 0.3669270\ttotal: 5.74s\tremaining: 2.97s\n",
      "659:\tlearn: 0.3660640\ttotal: 5.75s\tremaining: 2.96s\n",
      "660:\tlearn: 0.3649679\ttotal: 5.76s\tremaining: 2.95s\n",
      "661:\tlearn: 0.3642584\ttotal: 5.77s\tremaining: 2.94s\n",
      "662:\tlearn: 0.3641841\ttotal: 5.77s\tremaining: 2.94s\n",
      "663:\tlearn: 0.3637502\ttotal: 5.78s\tremaining: 2.92s\n",
      "664:\tlearn: 0.3631087\ttotal: 5.79s\tremaining: 2.92s\n",
      "665:\tlearn: 0.3624154\ttotal: 5.79s\tremaining: 2.91s\n",
      "666:\tlearn: 0.3613128\ttotal: 5.8s\tremaining: 2.9s\n",
      "667:\tlearn: 0.3607812\ttotal: 5.81s\tremaining: 2.89s\n",
      "668:\tlearn: 0.3607262\ttotal: 5.82s\tremaining: 2.88s\n",
      "669:\tlearn: 0.3599770\ttotal: 5.83s\tremaining: 2.87s\n",
      "670:\tlearn: 0.3599201\ttotal: 5.83s\tremaining: 2.86s\n",
      "671:\tlearn: 0.3598263\ttotal: 5.84s\tremaining: 2.85s\n",
      "672:\tlearn: 0.3590166\ttotal: 5.85s\tremaining: 2.84s\n",
      "673:\tlearn: 0.3580154\ttotal: 5.86s\tremaining: 2.83s\n",
      "674:\tlearn: 0.3573162\ttotal: 5.87s\tremaining: 2.83s\n",
      "675:\tlearn: 0.3562442\ttotal: 5.88s\tremaining: 2.82s\n",
      "676:\tlearn: 0.3558065\ttotal: 5.88s\tremaining: 2.81s\n",
      "677:\tlearn: 0.3556467\ttotal: 5.89s\tremaining: 2.8s\n",
      "678:\tlearn: 0.3552053\ttotal: 5.9s\tremaining: 2.79s\n",
      "679:\tlearn: 0.3544857\ttotal: 5.91s\tremaining: 2.78s\n",
      "680:\tlearn: 0.3542610\ttotal: 5.91s\tremaining: 2.77s\n",
      "681:\tlearn: 0.3542100\ttotal: 5.92s\tremaining: 2.76s\n",
      "682:\tlearn: 0.3537213\ttotal: 5.93s\tremaining: 2.75s\n",
      "683:\tlearn: 0.3530935\ttotal: 5.93s\tremaining: 2.74s\n",
      "684:\tlearn: 0.3530270\ttotal: 5.94s\tremaining: 2.73s\n",
      "685:\tlearn: 0.3525237\ttotal: 5.95s\tremaining: 2.72s\n",
      "686:\tlearn: 0.3521039\ttotal: 5.96s\tremaining: 2.71s\n",
      "687:\tlearn: 0.3513651\ttotal: 5.96s\tremaining: 2.71s\n",
      "688:\tlearn: 0.3504170\ttotal: 5.97s\tremaining: 2.69s\n",
      "689:\tlearn: 0.3499222\ttotal: 5.98s\tremaining: 2.69s\n",
      "690:\tlearn: 0.3498606\ttotal: 5.99s\tremaining: 2.68s\n",
      "691:\tlearn: 0.3493100\ttotal: 5.99s\tremaining: 2.67s\n",
      "692:\tlearn: 0.3483076\ttotal: 6s\tremaining: 2.66s\n",
      "693:\tlearn: 0.3478536\ttotal: 6.01s\tremaining: 2.65s\n",
      "694:\tlearn: 0.3472621\ttotal: 6.02s\tremaining: 2.64s\n",
      "695:\tlearn: 0.3472202\ttotal: 6.02s\tremaining: 2.63s\n",
      "696:\tlearn: 0.3469049\ttotal: 6.03s\tremaining: 2.62s\n",
      "697:\tlearn: 0.3463211\ttotal: 6.04s\tremaining: 2.61s\n",
      "698:\tlearn: 0.3461814\ttotal: 6.04s\tremaining: 2.6s\n",
      "699:\tlearn: 0.3459630\ttotal: 6.05s\tremaining: 2.59s\n",
      "700:\tlearn: 0.3450368\ttotal: 6.06s\tremaining: 2.58s\n",
      "701:\tlearn: 0.3449812\ttotal: 6.07s\tremaining: 2.58s\n",
      "702:\tlearn: 0.3442949\ttotal: 6.07s\tremaining: 2.56s\n",
      "703:\tlearn: 0.3442539\ttotal: 6.08s\tremaining: 2.56s\n",
      "704:\tlearn: 0.3432106\ttotal: 6.09s\tremaining: 2.55s\n",
      "705:\tlearn: 0.3425670\ttotal: 6.09s\tremaining: 2.54s\n",
      "706:\tlearn: 0.3419158\ttotal: 6.1s\tremaining: 2.53s\n",
      "707:\tlearn: 0.3414987\ttotal: 6.11s\tremaining: 2.52s\n",
      "708:\tlearn: 0.3414557\ttotal: 6.12s\tremaining: 2.51s\n",
      "709:\tlearn: 0.3413990\ttotal: 6.13s\tremaining: 2.5s\n",
      "710:\tlearn: 0.3409994\ttotal: 6.13s\tremaining: 2.49s\n",
      "711:\tlearn: 0.3404615\ttotal: 6.14s\tremaining: 2.48s\n",
      "712:\tlearn: 0.3398231\ttotal: 6.15s\tremaining: 2.48s\n",
      "713:\tlearn: 0.3389336\ttotal: 6.16s\tremaining: 2.47s\n",
      "714:\tlearn: 0.3388714\ttotal: 6.17s\tremaining: 2.46s\n",
      "715:\tlearn: 0.3388067\ttotal: 6.18s\tremaining: 2.45s\n",
      "716:\tlearn: 0.3387551\ttotal: 6.19s\tremaining: 2.44s\n",
      "717:\tlearn: 0.3377501\ttotal: 6.2s\tremaining: 2.43s\n",
      "718:\tlearn: 0.3371229\ttotal: 6.21s\tremaining: 2.42s\n",
      "719:\tlearn: 0.3365554\ttotal: 6.21s\tremaining: 2.42s\n",
      "720:\tlearn: 0.3359796\ttotal: 6.22s\tremaining: 2.41s\n",
      "721:\tlearn: 0.3354852\ttotal: 6.23s\tremaining: 2.4s\n",
      "722:\tlearn: 0.3353289\ttotal: 6.24s\tremaining: 2.39s\n",
      "723:\tlearn: 0.3351633\ttotal: 6.25s\tremaining: 2.38s\n",
      "724:\tlearn: 0.3344311\ttotal: 6.26s\tremaining: 2.37s\n",
      "725:\tlearn: 0.3336745\ttotal: 6.26s\tremaining: 2.36s\n",
      "726:\tlearn: 0.3336342\ttotal: 6.27s\tremaining: 2.35s\n",
      "727:\tlearn: 0.3335686\ttotal: 6.28s\tremaining: 2.35s\n",
      "728:\tlearn: 0.3335318\ttotal: 6.29s\tremaining: 2.34s\n",
      "729:\tlearn: 0.3334210\ttotal: 6.29s\tremaining: 2.33s\n",
      "730:\tlearn: 0.3326611\ttotal: 6.3s\tremaining: 2.32s\n",
      "731:\tlearn: 0.3319086\ttotal: 6.31s\tremaining: 2.31s\n",
      "732:\tlearn: 0.3308744\ttotal: 6.32s\tremaining: 2.3s\n",
      "733:\tlearn: 0.3304463\ttotal: 6.32s\tremaining: 2.29s\n",
      "734:\tlearn: 0.3304136\ttotal: 6.33s\tremaining: 2.28s\n",
      "735:\tlearn: 0.3299535\ttotal: 6.34s\tremaining: 2.27s\n",
      "736:\tlearn: 0.3299167\ttotal: 6.35s\tremaining: 2.27s\n",
      "737:\tlearn: 0.3293142\ttotal: 6.36s\tremaining: 2.26s\n",
      "738:\tlearn: 0.3291771\ttotal: 6.37s\tremaining: 2.25s\n",
      "739:\tlearn: 0.3291412\ttotal: 6.38s\tremaining: 2.24s\n",
      "740:\tlearn: 0.3285093\ttotal: 6.39s\tremaining: 2.23s\n",
      "741:\tlearn: 0.3283648\ttotal: 6.4s\tremaining: 2.22s\n",
      "742:\tlearn: 0.3276521\ttotal: 6.41s\tremaining: 2.21s\n",
      "743:\tlearn: 0.3270284\ttotal: 6.41s\tremaining: 2.21s\n",
      "744:\tlearn: 0.3261603\ttotal: 6.42s\tremaining: 2.2s\n",
      "745:\tlearn: 0.3260909\ttotal: 6.43s\tremaining: 2.19s\n",
      "746:\tlearn: 0.3256255\ttotal: 6.44s\tremaining: 2.18s\n",
      "747:\tlearn: 0.3253959\ttotal: 6.45s\tremaining: 2.17s\n",
      "748:\tlearn: 0.3252556\ttotal: 6.45s\tremaining: 2.16s\n",
      "749:\tlearn: 0.3247918\ttotal: 6.46s\tremaining: 2.15s\n",
      "750:\tlearn: 0.3238399\ttotal: 6.47s\tremaining: 2.15s\n",
      "751:\tlearn: 0.3233441\ttotal: 6.48s\tremaining: 2.14s\n",
      "752:\tlearn: 0.3232502\ttotal: 6.49s\tremaining: 2.13s\n",
      "753:\tlearn: 0.3231993\ttotal: 6.49s\tremaining: 2.12s\n",
      "754:\tlearn: 0.3231656\ttotal: 6.5s\tremaining: 2.11s\n",
      "755:\tlearn: 0.3227008\ttotal: 6.51s\tremaining: 2.1s\n",
      "756:\tlearn: 0.3226502\ttotal: 6.51s\tremaining: 2.09s\n",
      "757:\tlearn: 0.3226089\ttotal: 6.52s\tremaining: 2.08s\n",
      "758:\tlearn: 0.3221557\ttotal: 6.53s\tremaining: 2.07s\n",
      "759:\tlearn: 0.3211808\ttotal: 6.54s\tremaining: 2.06s\n",
      "760:\tlearn: 0.3204827\ttotal: 6.55s\tremaining: 2.06s\n",
      "761:\tlearn: 0.3199785\ttotal: 6.56s\tremaining: 2.05s\n",
      "762:\tlearn: 0.3197599\ttotal: 6.57s\tremaining: 2.04s\n",
      "763:\tlearn: 0.3191323\ttotal: 6.58s\tremaining: 2.03s\n",
      "764:\tlearn: 0.3190118\ttotal: 6.59s\tremaining: 2.02s\n",
      "765:\tlearn: 0.3187055\ttotal: 6.6s\tremaining: 2.02s\n",
      "766:\tlearn: 0.3186220\ttotal: 6.6s\tremaining: 2.01s\n",
      "767:\tlearn: 0.3181213\ttotal: 6.61s\tremaining: 2s\n",
      "768:\tlearn: 0.3176108\ttotal: 6.62s\tremaining: 1.99s\n",
      "769:\tlearn: 0.3175544\ttotal: 6.63s\tremaining: 1.98s\n",
      "770:\tlearn: 0.3172321\ttotal: 6.63s\tremaining: 1.97s\n",
      "771:\tlearn: 0.3166652\ttotal: 6.64s\tremaining: 1.96s\n",
      "772:\tlearn: 0.3162907\ttotal: 6.65s\tremaining: 1.95s\n",
      "773:\tlearn: 0.3153589\ttotal: 6.65s\tremaining: 1.94s\n",
      "774:\tlearn: 0.3151290\ttotal: 6.66s\tremaining: 1.93s\n",
      "775:\tlearn: 0.3145998\ttotal: 6.67s\tremaining: 1.93s\n",
      "776:\tlearn: 0.3142183\ttotal: 6.68s\tremaining: 1.92s\n",
      "777:\tlearn: 0.3141598\ttotal: 6.68s\tremaining: 1.91s\n",
      "778:\tlearn: 0.3134987\ttotal: 6.69s\tremaining: 1.9s\n",
      "779:\tlearn: 0.3129018\ttotal: 6.7s\tremaining: 1.89s\n",
      "780:\tlearn: 0.3118935\ttotal: 6.71s\tremaining: 1.88s\n",
      "781:\tlearn: 0.3114187\ttotal: 6.71s\tremaining: 1.87s\n",
      "782:\tlearn: 0.3109346\ttotal: 6.72s\tremaining: 1.86s\n",
      "783:\tlearn: 0.3109074\ttotal: 6.73s\tremaining: 1.85s\n",
      "784:\tlearn: 0.3103086\ttotal: 6.74s\tremaining: 1.84s\n",
      "785:\tlearn: 0.3096482\ttotal: 6.75s\tremaining: 1.84s\n",
      "786:\tlearn: 0.3096091\ttotal: 6.76s\tremaining: 1.83s\n",
      "787:\tlearn: 0.3088311\ttotal: 6.76s\tremaining: 1.82s\n",
      "788:\tlearn: 0.3084233\ttotal: 6.77s\tremaining: 1.81s\n",
      "789:\tlearn: 0.3077986\ttotal: 6.78s\tremaining: 1.8s\n",
      "790:\tlearn: 0.3071028\ttotal: 6.79s\tremaining: 1.79s\n",
      "791:\tlearn: 0.3069834\ttotal: 6.8s\tremaining: 1.78s\n",
      "792:\tlearn: 0.3065599\ttotal: 6.8s\tremaining: 1.78s\n",
      "793:\tlearn: 0.3060015\ttotal: 6.81s\tremaining: 1.77s\n",
      "794:\tlearn: 0.3058805\ttotal: 6.82s\tremaining: 1.76s\n",
      "795:\tlearn: 0.3055701\ttotal: 6.83s\tremaining: 1.75s\n",
      "796:\tlearn: 0.3051417\ttotal: 6.83s\tremaining: 1.74s\n",
      "797:\tlearn: 0.3051008\ttotal: 6.84s\tremaining: 1.73s\n",
      "798:\tlearn: 0.3045921\ttotal: 6.85s\tremaining: 1.72s\n",
      "799:\tlearn: 0.3043165\ttotal: 6.86s\tremaining: 1.71s\n",
      "800:\tlearn: 0.3033592\ttotal: 6.86s\tremaining: 1.71s\n",
      "801:\tlearn: 0.3032565\ttotal: 6.87s\tremaining: 1.7s\n",
      "802:\tlearn: 0.3025305\ttotal: 6.88s\tremaining: 1.69s\n",
      "803:\tlearn: 0.3022432\ttotal: 6.88s\tremaining: 1.68s\n",
      "804:\tlearn: 0.3019039\ttotal: 6.89s\tremaining: 1.67s\n",
      "805:\tlearn: 0.3017620\ttotal: 6.9s\tremaining: 1.66s\n",
      "806:\tlearn: 0.3014365\ttotal: 6.91s\tremaining: 1.65s\n",
      "807:\tlearn: 0.3011579\ttotal: 6.91s\tremaining: 1.64s\n",
      "808:\tlearn: 0.3005731\ttotal: 6.92s\tremaining: 1.63s\n",
      "809:\tlearn: 0.3001868\ttotal: 6.93s\tremaining: 1.63s\n",
      "810:\tlearn: 0.2996823\ttotal: 6.94s\tremaining: 1.62s\n",
      "811:\tlearn: 0.2994597\ttotal: 6.95s\tremaining: 1.61s\n",
      "812:\tlearn: 0.2990836\ttotal: 6.96s\tremaining: 1.6s\n",
      "813:\tlearn: 0.2984706\ttotal: 6.96s\tremaining: 1.59s\n",
      "814:\tlearn: 0.2978744\ttotal: 6.97s\tremaining: 1.58s\n",
      "815:\tlearn: 0.2969314\ttotal: 6.98s\tremaining: 1.57s\n",
      "816:\tlearn: 0.2962791\ttotal: 6.99s\tremaining: 1.56s\n",
      "817:\tlearn: 0.2962167\ttotal: 6.99s\tremaining: 1.56s\n",
      "818:\tlearn: 0.2958945\ttotal: 7s\tremaining: 1.55s\n",
      "819:\tlearn: 0.2958073\ttotal: 7.01s\tremaining: 1.54s\n",
      "820:\tlearn: 0.2951462\ttotal: 7.01s\tremaining: 1.53s\n",
      "821:\tlearn: 0.2943654\ttotal: 7.02s\tremaining: 1.52s\n",
      "822:\tlearn: 0.2936900\ttotal: 7.03s\tremaining: 1.51s\n",
      "823:\tlearn: 0.2932370\ttotal: 7.04s\tremaining: 1.5s\n",
      "824:\tlearn: 0.2931857\ttotal: 7.04s\tremaining: 1.49s\n",
      "825:\tlearn: 0.2926312\ttotal: 7.05s\tremaining: 1.49s\n",
      "826:\tlearn: 0.2924230\ttotal: 7.06s\tremaining: 1.48s\n",
      "827:\tlearn: 0.2921369\ttotal: 7.07s\tremaining: 1.47s\n",
      "828:\tlearn: 0.2918681\ttotal: 7.07s\tremaining: 1.46s\n",
      "829:\tlearn: 0.2918146\ttotal: 7.08s\tremaining: 1.45s\n",
      "830:\tlearn: 0.2913769\ttotal: 7.09s\tremaining: 1.44s\n",
      "831:\tlearn: 0.2910971\ttotal: 7.09s\tremaining: 1.43s\n",
      "832:\tlearn: 0.2901134\ttotal: 7.1s\tremaining: 1.42s\n",
      "833:\tlearn: 0.2895703\ttotal: 7.11s\tremaining: 1.42s\n",
      "834:\tlearn: 0.2895261\ttotal: 7.12s\tremaining: 1.41s\n",
      "835:\tlearn: 0.2889757\ttotal: 7.13s\tremaining: 1.4s\n",
      "836:\tlearn: 0.2886364\ttotal: 7.13s\tremaining: 1.39s\n",
      "837:\tlearn: 0.2879314\ttotal: 7.14s\tremaining: 1.38s\n",
      "838:\tlearn: 0.2879017\ttotal: 7.15s\tremaining: 1.37s\n",
      "839:\tlearn: 0.2874965\ttotal: 7.16s\tremaining: 1.36s\n",
      "840:\tlearn: 0.2869931\ttotal: 7.17s\tremaining: 1.35s\n",
      "841:\tlearn: 0.2864032\ttotal: 7.18s\tremaining: 1.35s\n",
      "842:\tlearn: 0.2858714\ttotal: 7.18s\tremaining: 1.34s\n",
      "843:\tlearn: 0.2853396\ttotal: 7.19s\tremaining: 1.33s\n",
      "844:\tlearn: 0.2852126\ttotal: 7.2s\tremaining: 1.32s\n",
      "845:\tlearn: 0.2846712\ttotal: 7.2s\tremaining: 1.31s\n",
      "846:\tlearn: 0.2842502\ttotal: 7.21s\tremaining: 1.3s\n",
      "847:\tlearn: 0.2840968\ttotal: 7.22s\tremaining: 1.29s\n",
      "848:\tlearn: 0.2837670\ttotal: 7.23s\tremaining: 1.28s\n",
      "849:\tlearn: 0.2836332\ttotal: 7.24s\tremaining: 1.28s\n",
      "850:\tlearn: 0.2830137\ttotal: 7.24s\tremaining: 1.27s\n",
      "851:\tlearn: 0.2824722\ttotal: 7.25s\tremaining: 1.26s\n",
      "852:\tlearn: 0.2818416\ttotal: 7.26s\tremaining: 1.25s\n",
      "853:\tlearn: 0.2818072\ttotal: 7.27s\tremaining: 1.24s\n",
      "854:\tlearn: 0.2811347\ttotal: 7.28s\tremaining: 1.23s\n",
      "855:\tlearn: 0.2805348\ttotal: 7.29s\tremaining: 1.23s\n",
      "856:\tlearn: 0.2800626\ttotal: 7.3s\tremaining: 1.22s\n",
      "857:\tlearn: 0.2794830\ttotal: 7.3s\tremaining: 1.21s\n",
      "858:\tlearn: 0.2788602\ttotal: 7.31s\tremaining: 1.2s\n",
      "859:\tlearn: 0.2782729\ttotal: 7.32s\tremaining: 1.19s\n",
      "860:\tlearn: 0.2775044\ttotal: 7.33s\tremaining: 1.18s\n",
      "861:\tlearn: 0.2771811\ttotal: 7.33s\tremaining: 1.17s\n",
      "862:\tlearn: 0.2765427\ttotal: 7.34s\tremaining: 1.17s\n",
      "863:\tlearn: 0.2759560\ttotal: 7.36s\tremaining: 1.16s\n",
      "864:\tlearn: 0.2758816\ttotal: 7.36s\tremaining: 1.15s\n",
      "865:\tlearn: 0.2755148\ttotal: 7.37s\tremaining: 1.14s\n",
      "866:\tlearn: 0.2751119\ttotal: 7.38s\tremaining: 1.13s\n",
      "867:\tlearn: 0.2745049\ttotal: 7.38s\tremaining: 1.12s\n",
      "868:\tlearn: 0.2738394\ttotal: 7.39s\tremaining: 1.11s\n",
      "869:\tlearn: 0.2731033\ttotal: 7.4s\tremaining: 1.1s\n",
      "870:\tlearn: 0.2730142\ttotal: 7.41s\tremaining: 1.1s\n",
      "871:\tlearn: 0.2727471\ttotal: 7.41s\tremaining: 1.09s\n",
      "872:\tlearn: 0.2724265\ttotal: 7.42s\tremaining: 1.08s\n",
      "873:\tlearn: 0.2720736\ttotal: 7.43s\tremaining: 1.07s\n",
      "874:\tlearn: 0.2719196\ttotal: 7.44s\tremaining: 1.06s\n",
      "875:\tlearn: 0.2718143\ttotal: 7.45s\tremaining: 1.05s\n",
      "876:\tlearn: 0.2716265\ttotal: 7.46s\tremaining: 1.04s\n",
      "877:\tlearn: 0.2715409\ttotal: 7.46s\tremaining: 1.04s\n",
      "878:\tlearn: 0.2714229\ttotal: 7.47s\tremaining: 1.03s\n",
      "879:\tlearn: 0.2713857\ttotal: 7.49s\tremaining: 1.02s\n",
      "880:\tlearn: 0.2709860\ttotal: 7.5s\tremaining: 1.01s\n",
      "881:\tlearn: 0.2705117\ttotal: 7.51s\tremaining: 1s\n",
      "882:\tlearn: 0.2699973\ttotal: 7.52s\tremaining: 996ms\n",
      "883:\tlearn: 0.2694155\ttotal: 7.52s\tremaining: 987ms\n",
      "884:\tlearn: 0.2690926\ttotal: 7.53s\tremaining: 979ms\n",
      "885:\tlearn: 0.2684594\ttotal: 7.54s\tremaining: 970ms\n",
      "886:\tlearn: 0.2684131\ttotal: 7.55s\tremaining: 962ms\n",
      "887:\tlearn: 0.2680557\ttotal: 7.56s\tremaining: 953ms\n",
      "888:\tlearn: 0.2678687\ttotal: 7.57s\tremaining: 945ms\n",
      "889:\tlearn: 0.2675230\ttotal: 7.57s\tremaining: 936ms\n",
      "890:\tlearn: 0.2671294\ttotal: 7.58s\tremaining: 927ms\n",
      "891:\tlearn: 0.2670566\ttotal: 7.59s\tremaining: 919ms\n",
      "892:\tlearn: 0.2665482\ttotal: 7.6s\tremaining: 910ms\n",
      "893:\tlearn: 0.2665212\ttotal: 7.6s\tremaining: 902ms\n",
      "894:\tlearn: 0.2659760\ttotal: 7.61s\tremaining: 893ms\n",
      "895:\tlearn: 0.2659474\ttotal: 7.62s\tremaining: 884ms\n",
      "896:\tlearn: 0.2652068\ttotal: 7.63s\tremaining: 876ms\n",
      "897:\tlearn: 0.2643068\ttotal: 7.63s\tremaining: 867ms\n",
      "898:\tlearn: 0.2640494\ttotal: 7.64s\tremaining: 859ms\n",
      "899:\tlearn: 0.2634331\ttotal: 7.65s\tremaining: 850ms\n",
      "900:\tlearn: 0.2631540\ttotal: 7.66s\tremaining: 842ms\n",
      "901:\tlearn: 0.2631067\ttotal: 7.67s\tremaining: 833ms\n",
      "902:\tlearn: 0.2629791\ttotal: 7.68s\tremaining: 825ms\n",
      "903:\tlearn: 0.2626417\ttotal: 7.69s\tremaining: 816ms\n",
      "904:\tlearn: 0.2625896\ttotal: 7.7s\tremaining: 808ms\n",
      "905:\tlearn: 0.2621322\ttotal: 7.7s\tremaining: 799ms\n",
      "906:\tlearn: 0.2619297\ttotal: 7.71s\tremaining: 791ms\n",
      "907:\tlearn: 0.2616223\ttotal: 7.72s\tremaining: 782ms\n",
      "908:\tlearn: 0.2612432\ttotal: 7.73s\tremaining: 774ms\n",
      "909:\tlearn: 0.2607682\ttotal: 7.74s\tremaining: 765ms\n",
      "910:\tlearn: 0.2603510\ttotal: 7.75s\tremaining: 757ms\n",
      "911:\tlearn: 0.2599375\ttotal: 7.76s\tremaining: 749ms\n",
      "912:\tlearn: 0.2592657\ttotal: 7.8s\tremaining: 743ms\n",
      "913:\tlearn: 0.2587938\ttotal: 7.81s\tremaining: 735ms\n",
      "914:\tlearn: 0.2584893\ttotal: 7.82s\tremaining: 726ms\n",
      "915:\tlearn: 0.2580374\ttotal: 7.82s\tremaining: 717ms\n",
      "916:\tlearn: 0.2574690\ttotal: 7.83s\tremaining: 709ms\n",
      "917:\tlearn: 0.2568390\ttotal: 7.84s\tremaining: 700ms\n",
      "918:\tlearn: 0.2566432\ttotal: 7.85s\tremaining: 692ms\n",
      "919:\tlearn: 0.2559001\ttotal: 7.86s\tremaining: 683ms\n",
      "920:\tlearn: 0.2557574\ttotal: 7.86s\tremaining: 674ms\n",
      "921:\tlearn: 0.2557133\ttotal: 7.87s\tremaining: 666ms\n",
      "922:\tlearn: 0.2552702\ttotal: 7.88s\tremaining: 657ms\n",
      "923:\tlearn: 0.2546491\ttotal: 7.89s\tremaining: 649ms\n",
      "924:\tlearn: 0.2542740\ttotal: 7.89s\tremaining: 640ms\n",
      "925:\tlearn: 0.2535539\ttotal: 7.9s\tremaining: 632ms\n",
      "926:\tlearn: 0.2530169\ttotal: 7.91s\tremaining: 623ms\n",
      "927:\tlearn: 0.2525460\ttotal: 7.92s\tremaining: 614ms\n",
      "928:\tlearn: 0.2520890\ttotal: 7.93s\tremaining: 606ms\n",
      "929:\tlearn: 0.2516451\ttotal: 7.93s\tremaining: 597ms\n",
      "930:\tlearn: 0.2514013\ttotal: 7.94s\tremaining: 589ms\n",
      "931:\tlearn: 0.2507875\ttotal: 7.95s\tremaining: 580ms\n",
      "932:\tlearn: 0.2503669\ttotal: 7.96s\tremaining: 571ms\n",
      "933:\tlearn: 0.2503276\ttotal: 7.96s\tremaining: 563ms\n",
      "934:\tlearn: 0.2497686\ttotal: 7.97s\tremaining: 554ms\n",
      "935:\tlearn: 0.2496911\ttotal: 7.98s\tremaining: 546ms\n",
      "936:\tlearn: 0.2490454\ttotal: 7.99s\tremaining: 537ms\n",
      "937:\tlearn: 0.2486819\ttotal: 7.99s\tremaining: 528ms\n",
      "938:\tlearn: 0.2480708\ttotal: 8.01s\tremaining: 520ms\n",
      "939:\tlearn: 0.2480285\ttotal: 8.02s\tremaining: 512ms\n",
      "940:\tlearn: 0.2476550\ttotal: 8.02s\tremaining: 503ms\n",
      "941:\tlearn: 0.2473146\ttotal: 8.03s\tremaining: 495ms\n",
      "942:\tlearn: 0.2465835\ttotal: 8.04s\tremaining: 486ms\n",
      "943:\tlearn: 0.2461691\ttotal: 8.05s\tremaining: 478ms\n",
      "944:\tlearn: 0.2460134\ttotal: 8.06s\tremaining: 469ms\n",
      "945:\tlearn: 0.2455958\ttotal: 8.06s\tremaining: 460ms\n",
      "946:\tlearn: 0.2455727\ttotal: 8.07s\tremaining: 452ms\n",
      "947:\tlearn: 0.2455544\ttotal: 8.08s\tremaining: 443ms\n",
      "948:\tlearn: 0.2450452\ttotal: 8.09s\tremaining: 435ms\n",
      "949:\tlearn: 0.2450216\ttotal: 8.1s\tremaining: 426ms\n",
      "950:\tlearn: 0.2447307\ttotal: 8.1s\tremaining: 418ms\n",
      "951:\tlearn: 0.2444060\ttotal: 8.11s\tremaining: 409ms\n",
      "952:\tlearn: 0.2438568\ttotal: 8.12s\tremaining: 401ms\n",
      "953:\tlearn: 0.2433484\ttotal: 8.13s\tremaining: 392ms\n",
      "954:\tlearn: 0.2429615\ttotal: 8.14s\tremaining: 383ms\n",
      "955:\tlearn: 0.2426851\ttotal: 8.14s\tremaining: 375ms\n",
      "956:\tlearn: 0.2422524\ttotal: 8.15s\tremaining: 366ms\n",
      "957:\tlearn: 0.2419310\ttotal: 8.16s\tremaining: 358ms\n",
      "958:\tlearn: 0.2416586\ttotal: 8.17s\tremaining: 349ms\n",
      "959:\tlearn: 0.2413866\ttotal: 8.18s\tremaining: 341ms\n",
      "960:\tlearn: 0.2410462\ttotal: 8.19s\tremaining: 332ms\n",
      "961:\tlearn: 0.2407651\ttotal: 8.2s\tremaining: 324ms\n",
      "962:\tlearn: 0.2402815\ttotal: 8.2s\tremaining: 315ms\n",
      "963:\tlearn: 0.2400801\ttotal: 8.21s\tremaining: 307ms\n",
      "964:\tlearn: 0.2397915\ttotal: 8.22s\tremaining: 298ms\n",
      "965:\tlearn: 0.2394313\ttotal: 8.23s\tremaining: 290ms\n",
      "966:\tlearn: 0.2393512\ttotal: 8.24s\tremaining: 281ms\n",
      "967:\tlearn: 0.2391396\ttotal: 8.25s\tremaining: 273ms\n",
      "968:\tlearn: 0.2387330\ttotal: 8.26s\tremaining: 264ms\n",
      "969:\tlearn: 0.2384342\ttotal: 8.26s\tremaining: 256ms\n",
      "970:\tlearn: 0.2380446\ttotal: 8.27s\tremaining: 247ms\n",
      "971:\tlearn: 0.2375847\ttotal: 8.28s\tremaining: 239ms\n",
      "972:\tlearn: 0.2372972\ttotal: 8.29s\tremaining: 230ms\n",
      "973:\tlearn: 0.2368390\ttotal: 8.3s\tremaining: 221ms\n",
      "974:\tlearn: 0.2367023\ttotal: 8.3s\tremaining: 213ms\n",
      "975:\tlearn: 0.2366737\ttotal: 8.31s\tremaining: 204ms\n",
      "976:\tlearn: 0.2365617\ttotal: 8.32s\tremaining: 196ms\n",
      "977:\tlearn: 0.2364879\ttotal: 8.33s\tremaining: 187ms\n",
      "978:\tlearn: 0.2361512\ttotal: 8.34s\tremaining: 179ms\n",
      "979:\tlearn: 0.2357502\ttotal: 8.34s\tremaining: 170ms\n",
      "980:\tlearn: 0.2353574\ttotal: 8.35s\tremaining: 162ms\n",
      "981:\tlearn: 0.2349536\ttotal: 8.36s\tremaining: 153ms\n",
      "982:\tlearn: 0.2345438\ttotal: 8.37s\tremaining: 145ms\n",
      "983:\tlearn: 0.2345053\ttotal: 8.38s\tremaining: 136ms\n",
      "984:\tlearn: 0.2339729\ttotal: 8.39s\tremaining: 128ms\n",
      "985:\tlearn: 0.2337918\ttotal: 8.39s\tremaining: 119ms\n",
      "986:\tlearn: 0.2337198\ttotal: 8.4s\tremaining: 111ms\n",
      "987:\tlearn: 0.2335371\ttotal: 8.41s\tremaining: 102ms\n",
      "988:\tlearn: 0.2334901\ttotal: 8.42s\tremaining: 93.7ms\n",
      "989:\tlearn: 0.2330346\ttotal: 8.43s\tremaining: 85.2ms\n",
      "990:\tlearn: 0.2327945\ttotal: 8.44s\tremaining: 76.7ms\n",
      "991:\tlearn: 0.2322851\ttotal: 8.45s\tremaining: 68.1ms\n",
      "992:\tlearn: 0.2319509\ttotal: 8.46s\tremaining: 59.6ms\n",
      "993:\tlearn: 0.2319115\ttotal: 8.46s\tremaining: 51.1ms\n",
      "994:\tlearn: 0.2318830\ttotal: 8.47s\tremaining: 42.6ms\n",
      "995:\tlearn: 0.2317385\ttotal: 8.48s\tremaining: 34.1ms\n",
      "996:\tlearn: 0.2315239\ttotal: 8.49s\tremaining: 25.5ms\n",
      "997:\tlearn: 0.2309285\ttotal: 8.49s\tremaining: 17ms\n",
      "998:\tlearn: 0.2305200\ttotal: 8.5s\tremaining: 8.51ms\n",
      "999:\tlearn: 0.2301324\ttotal: 8.51s\tremaining: 0us\n"
     ]
    },
    {
     "data": {
      "text/plain": "<catboost.core.CatBoostRegressor at 0x29f4c6496d0>"
     },
     "execution_count": 23,
     "metadata": {},
     "output_type": "execute_result"
    }
   ],
   "source": [
    "cat = CatBoostRegressor()\n",
    "cat.fit(X_train, y_train)"
   ],
   "metadata": {
    "collapsed": false
   }
  },
  {
   "cell_type": "code",
   "execution_count": 24,
   "outputs": [
    {
     "name": "stdout",
     "output_type": "stream",
     "text": [
      "RMSE: 1.451579\n",
      "MAE: 1.035624\n",
      "R2: 0.557515\n",
      "Pearson: 0.751668\n"
     ]
    }
   ],
   "source": [
    "# Predict the test set and calculate the accuracy\n",
    "metrics(cat, X_test, y_test)"
   ],
   "metadata": {
    "collapsed": false
   }
  },
  {
   "cell_type": "markdown",
   "source": [
    "# SVR"
   ],
   "metadata": {
    "collapsed": false
   }
  },
  {
   "cell_type": "code",
   "execution_count": 25,
   "outputs": [
    {
     "data": {
      "text/plain": "SVR(C=1000.0, gamma=0.1)",
      "text/html": "<style>#sk-container-id-4 {color: black;background-color: white;}#sk-container-id-4 pre{padding: 0;}#sk-container-id-4 div.sk-toggleable {background-color: white;}#sk-container-id-4 label.sk-toggleable__label {cursor: pointer;display: block;width: 100%;margin-bottom: 0;padding: 0.3em;box-sizing: border-box;text-align: center;}#sk-container-id-4 label.sk-toggleable__label-arrow:before {content: \"▸\";float: left;margin-right: 0.25em;color: #696969;}#sk-container-id-4 label.sk-toggleable__label-arrow:hover:before {color: black;}#sk-container-id-4 div.sk-estimator:hover label.sk-toggleable__label-arrow:before {color: black;}#sk-container-id-4 div.sk-toggleable__content {max-height: 0;max-width: 0;overflow: hidden;text-align: left;background-color: #f0f8ff;}#sk-container-id-4 div.sk-toggleable__content pre {margin: 0.2em;color: black;border-radius: 0.25em;background-color: #f0f8ff;}#sk-container-id-4 input.sk-toggleable__control:checked~div.sk-toggleable__content {max-height: 200px;max-width: 100%;overflow: auto;}#sk-container-id-4 input.sk-toggleable__control:checked~label.sk-toggleable__label-arrow:before {content: \"▾\";}#sk-container-id-4 div.sk-estimator input.sk-toggleable__control:checked~label.sk-toggleable__label {background-color: #d4ebff;}#sk-container-id-4 div.sk-label input.sk-toggleable__control:checked~label.sk-toggleable__label {background-color: #d4ebff;}#sk-container-id-4 input.sk-hidden--visually {border: 0;clip: rect(1px 1px 1px 1px);clip: rect(1px, 1px, 1px, 1px);height: 1px;margin: -1px;overflow: hidden;padding: 0;position: absolute;width: 1px;}#sk-container-id-4 div.sk-estimator {font-family: monospace;background-color: #f0f8ff;border: 1px dotted black;border-radius: 0.25em;box-sizing: border-box;margin-bottom: 0.5em;}#sk-container-id-4 div.sk-estimator:hover {background-color: #d4ebff;}#sk-container-id-4 div.sk-parallel-item::after {content: \"\";width: 100%;border-bottom: 1px solid gray;flex-grow: 1;}#sk-container-id-4 div.sk-label:hover label.sk-toggleable__label {background-color: #d4ebff;}#sk-container-id-4 div.sk-serial::before {content: \"\";position: absolute;border-left: 1px solid gray;box-sizing: border-box;top: 0;bottom: 0;left: 50%;z-index: 0;}#sk-container-id-4 div.sk-serial {display: flex;flex-direction: column;align-items: center;background-color: white;padding-right: 0.2em;padding-left: 0.2em;position: relative;}#sk-container-id-4 div.sk-item {position: relative;z-index: 1;}#sk-container-id-4 div.sk-parallel {display: flex;align-items: stretch;justify-content: center;background-color: white;position: relative;}#sk-container-id-4 div.sk-item::before, #sk-container-id-4 div.sk-parallel-item::before {content: \"\";position: absolute;border-left: 1px solid gray;box-sizing: border-box;top: 0;bottom: 0;left: 50%;z-index: -1;}#sk-container-id-4 div.sk-parallel-item {display: flex;flex-direction: column;z-index: 1;position: relative;background-color: white;}#sk-container-id-4 div.sk-parallel-item:first-child::after {align-self: flex-end;width: 50%;}#sk-container-id-4 div.sk-parallel-item:last-child::after {align-self: flex-start;width: 50%;}#sk-container-id-4 div.sk-parallel-item:only-child::after {width: 0;}#sk-container-id-4 div.sk-dashed-wrapped {border: 1px dashed gray;margin: 0 0.4em 0.5em 0.4em;box-sizing: border-box;padding-bottom: 0.4em;background-color: white;}#sk-container-id-4 div.sk-label label {font-family: monospace;font-weight: bold;display: inline-block;line-height: 1.2em;}#sk-container-id-4 div.sk-label-container {text-align: center;}#sk-container-id-4 div.sk-container {/* jupyter's `normalize.less` sets `[hidden] { display: none; }` but bootstrap.min.css set `[hidden] { display: none !important; }` so we also need the `!important` here to be able to override the default hidden behavior on the sphinx rendered scikit-learn.org. See: https://github.com/scikit-learn/scikit-learn/issues/21755 */display: inline-block !important;position: relative;}#sk-container-id-4 div.sk-text-repr-fallback {display: none;}</style><div id=\"sk-container-id-4\" class=\"sk-top-container\"><div class=\"sk-text-repr-fallback\"><pre>SVR(C=1000.0, gamma=0.1)</pre><b>In a Jupyter environment, please rerun this cell to show the HTML representation or trust the notebook. <br />On GitHub, the HTML representation is unable to render, please try loading this page with nbviewer.org.</b></div><div class=\"sk-container\" hidden><div class=\"sk-item\"><div class=\"sk-estimator sk-toggleable\"><input class=\"sk-toggleable__control sk-hidden--visually\" id=\"sk-estimator-id-4\" type=\"checkbox\" checked><label for=\"sk-estimator-id-4\" class=\"sk-toggleable__label sk-toggleable__label-arrow\">SVR</label><div class=\"sk-toggleable__content\"><pre>SVR(C=1000.0, gamma=0.1)</pre></div></div></div></div></div>"
     },
     "execution_count": 25,
     "metadata": {},
     "output_type": "execute_result"
    }
   ],
   "source": [
    "# Fit an SVR model\n",
    "svr = SVR(kernel='rbf', C=1e3, gamma=0.1)\n",
    "svr.fit(X_train, y_train)"
   ],
   "metadata": {
    "collapsed": false
   }
  },
  {
   "cell_type": "code",
   "execution_count": 26,
   "outputs": [
    {
     "name": "stdout",
     "output_type": "stream",
     "text": [
      "RMSE: 1.783255\n",
      "MAE: 1.365067\n",
      "R2: 0.332204\n",
      "Pearson: 0.610178\n"
     ]
    }
   ],
   "source": [
    "# Predict the test set and calculate the accuracy\n",
    "metrics(svr, X_test, y_test)"
   ],
   "metadata": {
    "collapsed": false
   }
  },
  {
   "cell_type": "markdown",
   "source": [
    "# Random Forest"
   ],
   "metadata": {
    "collapsed": false
   }
  },
  {
   "cell_type": "code",
   "execution_count": 27,
   "outputs": [
    {
     "data": {
      "text/plain": "RandomForestRegressor(max_depth=100, n_estimators=1000, random_state=42)",
      "text/html": "<style>#sk-container-id-5 {color: black;background-color: white;}#sk-container-id-5 pre{padding: 0;}#sk-container-id-5 div.sk-toggleable {background-color: white;}#sk-container-id-5 label.sk-toggleable__label {cursor: pointer;display: block;width: 100%;margin-bottom: 0;padding: 0.3em;box-sizing: border-box;text-align: center;}#sk-container-id-5 label.sk-toggleable__label-arrow:before {content: \"▸\";float: left;margin-right: 0.25em;color: #696969;}#sk-container-id-5 label.sk-toggleable__label-arrow:hover:before {color: black;}#sk-container-id-5 div.sk-estimator:hover label.sk-toggleable__label-arrow:before {color: black;}#sk-container-id-5 div.sk-toggleable__content {max-height: 0;max-width: 0;overflow: hidden;text-align: left;background-color: #f0f8ff;}#sk-container-id-5 div.sk-toggleable__content pre {margin: 0.2em;color: black;border-radius: 0.25em;background-color: #f0f8ff;}#sk-container-id-5 input.sk-toggleable__control:checked~div.sk-toggleable__content {max-height: 200px;max-width: 100%;overflow: auto;}#sk-container-id-5 input.sk-toggleable__control:checked~label.sk-toggleable__label-arrow:before {content: \"▾\";}#sk-container-id-5 div.sk-estimator input.sk-toggleable__control:checked~label.sk-toggleable__label {background-color: #d4ebff;}#sk-container-id-5 div.sk-label input.sk-toggleable__control:checked~label.sk-toggleable__label {background-color: #d4ebff;}#sk-container-id-5 input.sk-hidden--visually {border: 0;clip: rect(1px 1px 1px 1px);clip: rect(1px, 1px, 1px, 1px);height: 1px;margin: -1px;overflow: hidden;padding: 0;position: absolute;width: 1px;}#sk-container-id-5 div.sk-estimator {font-family: monospace;background-color: #f0f8ff;border: 1px dotted black;border-radius: 0.25em;box-sizing: border-box;margin-bottom: 0.5em;}#sk-container-id-5 div.sk-estimator:hover {background-color: #d4ebff;}#sk-container-id-5 div.sk-parallel-item::after {content: \"\";width: 100%;border-bottom: 1px solid gray;flex-grow: 1;}#sk-container-id-5 div.sk-label:hover label.sk-toggleable__label {background-color: #d4ebff;}#sk-container-id-5 div.sk-serial::before {content: \"\";position: absolute;border-left: 1px solid gray;box-sizing: border-box;top: 0;bottom: 0;left: 50%;z-index: 0;}#sk-container-id-5 div.sk-serial {display: flex;flex-direction: column;align-items: center;background-color: white;padding-right: 0.2em;padding-left: 0.2em;position: relative;}#sk-container-id-5 div.sk-item {position: relative;z-index: 1;}#sk-container-id-5 div.sk-parallel {display: flex;align-items: stretch;justify-content: center;background-color: white;position: relative;}#sk-container-id-5 div.sk-item::before, #sk-container-id-5 div.sk-parallel-item::before {content: \"\";position: absolute;border-left: 1px solid gray;box-sizing: border-box;top: 0;bottom: 0;left: 50%;z-index: -1;}#sk-container-id-5 div.sk-parallel-item {display: flex;flex-direction: column;z-index: 1;position: relative;background-color: white;}#sk-container-id-5 div.sk-parallel-item:first-child::after {align-self: flex-end;width: 50%;}#sk-container-id-5 div.sk-parallel-item:last-child::after {align-self: flex-start;width: 50%;}#sk-container-id-5 div.sk-parallel-item:only-child::after {width: 0;}#sk-container-id-5 div.sk-dashed-wrapped {border: 1px dashed gray;margin: 0 0.4em 0.5em 0.4em;box-sizing: border-box;padding-bottom: 0.4em;background-color: white;}#sk-container-id-5 div.sk-label label {font-family: monospace;font-weight: bold;display: inline-block;line-height: 1.2em;}#sk-container-id-5 div.sk-label-container {text-align: center;}#sk-container-id-5 div.sk-container {/* jupyter's `normalize.less` sets `[hidden] { display: none; }` but bootstrap.min.css set `[hidden] { display: none !important; }` so we also need the `!important` here to be able to override the default hidden behavior on the sphinx rendered scikit-learn.org. See: https://github.com/scikit-learn/scikit-learn/issues/21755 */display: inline-block !important;position: relative;}#sk-container-id-5 div.sk-text-repr-fallback {display: none;}</style><div id=\"sk-container-id-5\" class=\"sk-top-container\"><div class=\"sk-text-repr-fallback\"><pre>RandomForestRegressor(max_depth=100, n_estimators=1000, random_state=42)</pre><b>In a Jupyter environment, please rerun this cell to show the HTML representation or trust the notebook. <br />On GitHub, the HTML representation is unable to render, please try loading this page with nbviewer.org.</b></div><div class=\"sk-container\" hidden><div class=\"sk-item\"><div class=\"sk-estimator sk-toggleable\"><input class=\"sk-toggleable__control sk-hidden--visually\" id=\"sk-estimator-id-5\" type=\"checkbox\" checked><label for=\"sk-estimator-id-5\" class=\"sk-toggleable__label sk-toggleable__label-arrow\">RandomForestRegressor</label><div class=\"sk-toggleable__content\"><pre>RandomForestRegressor(max_depth=100, n_estimators=1000, random_state=42)</pre></div></div></div></div></div>"
     },
     "execution_count": 27,
     "metadata": {},
     "output_type": "execute_result"
    }
   ],
   "source": [
    "rf = RandomForestRegressor(n_estimators=1000, max_depth=100, random_state=42)\n",
    "rf.fit(X_train, y_train)"
   ],
   "metadata": {
    "collapsed": false
   }
  },
  {
   "cell_type": "code",
   "execution_count": 28,
   "outputs": [
    {
     "name": "stdout",
     "output_type": "stream",
     "text": [
      "RMSE: 1.480722\n",
      "MAE: 1.062004\n",
      "R2: 0.539570\n",
      "Pearson: 0.745555\n"
     ]
    }
   ],
   "source": [
    "# Predict the test set and calculate the accuracy\n",
    "metrics(rf, X_test, y_test)"
   ],
   "metadata": {
    "collapsed": false
   }
  },
  {
   "cell_type": "markdown",
   "source": [
    "# Gradient Boosting"
   ],
   "metadata": {
    "collapsed": false
   }
  },
  {
   "cell_type": "code",
   "execution_count": 29,
   "outputs": [
    {
     "data": {
      "text/plain": "GradientBoostingRegressor(max_depth=100, n_estimators=1000, random_state=42)",
      "text/html": "<style>#sk-container-id-6 {color: black;background-color: white;}#sk-container-id-6 pre{padding: 0;}#sk-container-id-6 div.sk-toggleable {background-color: white;}#sk-container-id-6 label.sk-toggleable__label {cursor: pointer;display: block;width: 100%;margin-bottom: 0;padding: 0.3em;box-sizing: border-box;text-align: center;}#sk-container-id-6 label.sk-toggleable__label-arrow:before {content: \"▸\";float: left;margin-right: 0.25em;color: #696969;}#sk-container-id-6 label.sk-toggleable__label-arrow:hover:before {color: black;}#sk-container-id-6 div.sk-estimator:hover label.sk-toggleable__label-arrow:before {color: black;}#sk-container-id-6 div.sk-toggleable__content {max-height: 0;max-width: 0;overflow: hidden;text-align: left;background-color: #f0f8ff;}#sk-container-id-6 div.sk-toggleable__content pre {margin: 0.2em;color: black;border-radius: 0.25em;background-color: #f0f8ff;}#sk-container-id-6 input.sk-toggleable__control:checked~div.sk-toggleable__content {max-height: 200px;max-width: 100%;overflow: auto;}#sk-container-id-6 input.sk-toggleable__control:checked~label.sk-toggleable__label-arrow:before {content: \"▾\";}#sk-container-id-6 div.sk-estimator input.sk-toggleable__control:checked~label.sk-toggleable__label {background-color: #d4ebff;}#sk-container-id-6 div.sk-label input.sk-toggleable__control:checked~label.sk-toggleable__label {background-color: #d4ebff;}#sk-container-id-6 input.sk-hidden--visually {border: 0;clip: rect(1px 1px 1px 1px);clip: rect(1px, 1px, 1px, 1px);height: 1px;margin: -1px;overflow: hidden;padding: 0;position: absolute;width: 1px;}#sk-container-id-6 div.sk-estimator {font-family: monospace;background-color: #f0f8ff;border: 1px dotted black;border-radius: 0.25em;box-sizing: border-box;margin-bottom: 0.5em;}#sk-container-id-6 div.sk-estimator:hover {background-color: #d4ebff;}#sk-container-id-6 div.sk-parallel-item::after {content: \"\";width: 100%;border-bottom: 1px solid gray;flex-grow: 1;}#sk-container-id-6 div.sk-label:hover label.sk-toggleable__label {background-color: #d4ebff;}#sk-container-id-6 div.sk-serial::before {content: \"\";position: absolute;border-left: 1px solid gray;box-sizing: border-box;top: 0;bottom: 0;left: 50%;z-index: 0;}#sk-container-id-6 div.sk-serial {display: flex;flex-direction: column;align-items: center;background-color: white;padding-right: 0.2em;padding-left: 0.2em;position: relative;}#sk-container-id-6 div.sk-item {position: relative;z-index: 1;}#sk-container-id-6 div.sk-parallel {display: flex;align-items: stretch;justify-content: center;background-color: white;position: relative;}#sk-container-id-6 div.sk-item::before, #sk-container-id-6 div.sk-parallel-item::before {content: \"\";position: absolute;border-left: 1px solid gray;box-sizing: border-box;top: 0;bottom: 0;left: 50%;z-index: -1;}#sk-container-id-6 div.sk-parallel-item {display: flex;flex-direction: column;z-index: 1;position: relative;background-color: white;}#sk-container-id-6 div.sk-parallel-item:first-child::after {align-self: flex-end;width: 50%;}#sk-container-id-6 div.sk-parallel-item:last-child::after {align-self: flex-start;width: 50%;}#sk-container-id-6 div.sk-parallel-item:only-child::after {width: 0;}#sk-container-id-6 div.sk-dashed-wrapped {border: 1px dashed gray;margin: 0 0.4em 0.5em 0.4em;box-sizing: border-box;padding-bottom: 0.4em;background-color: white;}#sk-container-id-6 div.sk-label label {font-family: monospace;font-weight: bold;display: inline-block;line-height: 1.2em;}#sk-container-id-6 div.sk-label-container {text-align: center;}#sk-container-id-6 div.sk-container {/* jupyter's `normalize.less` sets `[hidden] { display: none; }` but bootstrap.min.css set `[hidden] { display: none !important; }` so we also need the `!important` here to be able to override the default hidden behavior on the sphinx rendered scikit-learn.org. See: https://github.com/scikit-learn/scikit-learn/issues/21755 */display: inline-block !important;position: relative;}#sk-container-id-6 div.sk-text-repr-fallback {display: none;}</style><div id=\"sk-container-id-6\" class=\"sk-top-container\"><div class=\"sk-text-repr-fallback\"><pre>GradientBoostingRegressor(max_depth=100, n_estimators=1000, random_state=42)</pre><b>In a Jupyter environment, please rerun this cell to show the HTML representation or trust the notebook. <br />On GitHub, the HTML representation is unable to render, please try loading this page with nbviewer.org.</b></div><div class=\"sk-container\" hidden><div class=\"sk-item\"><div class=\"sk-estimator sk-toggleable\"><input class=\"sk-toggleable__control sk-hidden--visually\" id=\"sk-estimator-id-6\" type=\"checkbox\" checked><label for=\"sk-estimator-id-6\" class=\"sk-toggleable__label sk-toggleable__label-arrow\">GradientBoostingRegressor</label><div class=\"sk-toggleable__content\"><pre>GradientBoostingRegressor(max_depth=100, n_estimators=1000, random_state=42)</pre></div></div></div></div></div>"
     },
     "execution_count": 29,
     "metadata": {},
     "output_type": "execute_result"
    }
   ],
   "source": [
    "gb = GradientBoostingRegressor(n_estimators=1000, max_depth=100, random_state=42)\n",
    "gb.fit(X_train, y_train)"
   ],
   "metadata": {
    "collapsed": false
   }
  },
  {
   "cell_type": "code",
   "execution_count": 30,
   "outputs": [
    {
     "name": "stdout",
     "output_type": "stream",
     "text": [
      "RMSE: 2.093648\n",
      "MAE: 1.396960\n",
      "R2: 0.079499\n",
      "Pearson: 0.583017\n"
     ]
    }
   ],
   "source": [
    "# Predict the test set and calculate the accuracy\n",
    "metrics(gb, X_test, y_test)"
   ],
   "metadata": {
    "collapsed": false
   }
  },
  {
   "cell_type": "markdown",
   "source": [
    "# K-Nearest Neighbors"
   ],
   "metadata": {
    "collapsed": false
   }
  },
  {
   "cell_type": "code",
   "execution_count": 31,
   "outputs": [
    {
     "data": {
      "text/plain": "KNeighborsRegressor()",
      "text/html": "<style>#sk-container-id-7 {color: black;background-color: white;}#sk-container-id-7 pre{padding: 0;}#sk-container-id-7 div.sk-toggleable {background-color: white;}#sk-container-id-7 label.sk-toggleable__label {cursor: pointer;display: block;width: 100%;margin-bottom: 0;padding: 0.3em;box-sizing: border-box;text-align: center;}#sk-container-id-7 label.sk-toggleable__label-arrow:before {content: \"▸\";float: left;margin-right: 0.25em;color: #696969;}#sk-container-id-7 label.sk-toggleable__label-arrow:hover:before {color: black;}#sk-container-id-7 div.sk-estimator:hover label.sk-toggleable__label-arrow:before {color: black;}#sk-container-id-7 div.sk-toggleable__content {max-height: 0;max-width: 0;overflow: hidden;text-align: left;background-color: #f0f8ff;}#sk-container-id-7 div.sk-toggleable__content pre {margin: 0.2em;color: black;border-radius: 0.25em;background-color: #f0f8ff;}#sk-container-id-7 input.sk-toggleable__control:checked~div.sk-toggleable__content {max-height: 200px;max-width: 100%;overflow: auto;}#sk-container-id-7 input.sk-toggleable__control:checked~label.sk-toggleable__label-arrow:before {content: \"▾\";}#sk-container-id-7 div.sk-estimator input.sk-toggleable__control:checked~label.sk-toggleable__label {background-color: #d4ebff;}#sk-container-id-7 div.sk-label input.sk-toggleable__control:checked~label.sk-toggleable__label {background-color: #d4ebff;}#sk-container-id-7 input.sk-hidden--visually {border: 0;clip: rect(1px 1px 1px 1px);clip: rect(1px, 1px, 1px, 1px);height: 1px;margin: -1px;overflow: hidden;padding: 0;position: absolute;width: 1px;}#sk-container-id-7 div.sk-estimator {font-family: monospace;background-color: #f0f8ff;border: 1px dotted black;border-radius: 0.25em;box-sizing: border-box;margin-bottom: 0.5em;}#sk-container-id-7 div.sk-estimator:hover {background-color: #d4ebff;}#sk-container-id-7 div.sk-parallel-item::after {content: \"\";width: 100%;border-bottom: 1px solid gray;flex-grow: 1;}#sk-container-id-7 div.sk-label:hover label.sk-toggleable__label {background-color: #d4ebff;}#sk-container-id-7 div.sk-serial::before {content: \"\";position: absolute;border-left: 1px solid gray;box-sizing: border-box;top: 0;bottom: 0;left: 50%;z-index: 0;}#sk-container-id-7 div.sk-serial {display: flex;flex-direction: column;align-items: center;background-color: white;padding-right: 0.2em;padding-left: 0.2em;position: relative;}#sk-container-id-7 div.sk-item {position: relative;z-index: 1;}#sk-container-id-7 div.sk-parallel {display: flex;align-items: stretch;justify-content: center;background-color: white;position: relative;}#sk-container-id-7 div.sk-item::before, #sk-container-id-7 div.sk-parallel-item::before {content: \"\";position: absolute;border-left: 1px solid gray;box-sizing: border-box;top: 0;bottom: 0;left: 50%;z-index: -1;}#sk-container-id-7 div.sk-parallel-item {display: flex;flex-direction: column;z-index: 1;position: relative;background-color: white;}#sk-container-id-7 div.sk-parallel-item:first-child::after {align-self: flex-end;width: 50%;}#sk-container-id-7 div.sk-parallel-item:last-child::after {align-self: flex-start;width: 50%;}#sk-container-id-7 div.sk-parallel-item:only-child::after {width: 0;}#sk-container-id-7 div.sk-dashed-wrapped {border: 1px dashed gray;margin: 0 0.4em 0.5em 0.4em;box-sizing: border-box;padding-bottom: 0.4em;background-color: white;}#sk-container-id-7 div.sk-label label {font-family: monospace;font-weight: bold;display: inline-block;line-height: 1.2em;}#sk-container-id-7 div.sk-label-container {text-align: center;}#sk-container-id-7 div.sk-container {/* jupyter's `normalize.less` sets `[hidden] { display: none; }` but bootstrap.min.css set `[hidden] { display: none !important; }` so we also need the `!important` here to be able to override the default hidden behavior on the sphinx rendered scikit-learn.org. See: https://github.com/scikit-learn/scikit-learn/issues/21755 */display: inline-block !important;position: relative;}#sk-container-id-7 div.sk-text-repr-fallback {display: none;}</style><div id=\"sk-container-id-7\" class=\"sk-top-container\"><div class=\"sk-text-repr-fallback\"><pre>KNeighborsRegressor()</pre><b>In a Jupyter environment, please rerun this cell to show the HTML representation or trust the notebook. <br />On GitHub, the HTML representation is unable to render, please try loading this page with nbviewer.org.</b></div><div class=\"sk-container\" hidden><div class=\"sk-item\"><div class=\"sk-estimator sk-toggleable\"><input class=\"sk-toggleable__control sk-hidden--visually\" id=\"sk-estimator-id-7\" type=\"checkbox\" checked><label for=\"sk-estimator-id-7\" class=\"sk-toggleable__label sk-toggleable__label-arrow\">KNeighborsRegressor</label><div class=\"sk-toggleable__content\"><pre>KNeighborsRegressor()</pre></div></div></div></div></div>"
     },
     "execution_count": 31,
     "metadata": {},
     "output_type": "execute_result"
    }
   ],
   "source": [
    "knn = KNeighborsRegressor(n_neighbors=5)\n",
    "knn.fit(X_train, y_train)"
   ],
   "metadata": {
    "collapsed": false
   }
  },
  {
   "cell_type": "code",
   "execution_count": 32,
   "outputs": [
    {
     "name": "stdout",
     "output_type": "stream",
     "text": [
      "RMSE: 1.660513\n",
      "MAE: 1.193190\n",
      "R2: 0.420969\n",
      "Pearson: 0.681872\n"
     ]
    }
   ],
   "source": [
    "# Predict the test set and calculate the accuracy\n",
    "metrics(knn, X_test, y_test)"
   ],
   "metadata": {
    "collapsed": false
   }
  },
  {
   "cell_type": "markdown",
   "source": [
    "# LightGBM"
   ],
   "metadata": {
    "collapsed": false
   }
  },
  {
   "cell_type": "code",
   "execution_count": 7,
   "outputs": [
    {
     "data": {
      "text/plain": "LGBMRegressor()",
      "text/html": "<style>#sk-container-id-1 {color: black;background-color: white;}#sk-container-id-1 pre{padding: 0;}#sk-container-id-1 div.sk-toggleable {background-color: white;}#sk-container-id-1 label.sk-toggleable__label {cursor: pointer;display: block;width: 100%;margin-bottom: 0;padding: 0.3em;box-sizing: border-box;text-align: center;}#sk-container-id-1 label.sk-toggleable__label-arrow:before {content: \"▸\";float: left;margin-right: 0.25em;color: #696969;}#sk-container-id-1 label.sk-toggleable__label-arrow:hover:before {color: black;}#sk-container-id-1 div.sk-estimator:hover label.sk-toggleable__label-arrow:before {color: black;}#sk-container-id-1 div.sk-toggleable__content {max-height: 0;max-width: 0;overflow: hidden;text-align: left;background-color: #f0f8ff;}#sk-container-id-1 div.sk-toggleable__content pre {margin: 0.2em;color: black;border-radius: 0.25em;background-color: #f0f8ff;}#sk-container-id-1 input.sk-toggleable__control:checked~div.sk-toggleable__content {max-height: 200px;max-width: 100%;overflow: auto;}#sk-container-id-1 input.sk-toggleable__control:checked~label.sk-toggleable__label-arrow:before {content: \"▾\";}#sk-container-id-1 div.sk-estimator input.sk-toggleable__control:checked~label.sk-toggleable__label {background-color: #d4ebff;}#sk-container-id-1 div.sk-label input.sk-toggleable__control:checked~label.sk-toggleable__label {background-color: #d4ebff;}#sk-container-id-1 input.sk-hidden--visually {border: 0;clip: rect(1px 1px 1px 1px);clip: rect(1px, 1px, 1px, 1px);height: 1px;margin: -1px;overflow: hidden;padding: 0;position: absolute;width: 1px;}#sk-container-id-1 div.sk-estimator {font-family: monospace;background-color: #f0f8ff;border: 1px dotted black;border-radius: 0.25em;box-sizing: border-box;margin-bottom: 0.5em;}#sk-container-id-1 div.sk-estimator:hover {background-color: #d4ebff;}#sk-container-id-1 div.sk-parallel-item::after {content: \"\";width: 100%;border-bottom: 1px solid gray;flex-grow: 1;}#sk-container-id-1 div.sk-label:hover label.sk-toggleable__label {background-color: #d4ebff;}#sk-container-id-1 div.sk-serial::before {content: \"\";position: absolute;border-left: 1px solid gray;box-sizing: border-box;top: 0;bottom: 0;left: 50%;z-index: 0;}#sk-container-id-1 div.sk-serial {display: flex;flex-direction: column;align-items: center;background-color: white;padding-right: 0.2em;padding-left: 0.2em;position: relative;}#sk-container-id-1 div.sk-item {position: relative;z-index: 1;}#sk-container-id-1 div.sk-parallel {display: flex;align-items: stretch;justify-content: center;background-color: white;position: relative;}#sk-container-id-1 div.sk-item::before, #sk-container-id-1 div.sk-parallel-item::before {content: \"\";position: absolute;border-left: 1px solid gray;box-sizing: border-box;top: 0;bottom: 0;left: 50%;z-index: -1;}#sk-container-id-1 div.sk-parallel-item {display: flex;flex-direction: column;z-index: 1;position: relative;background-color: white;}#sk-container-id-1 div.sk-parallel-item:first-child::after {align-self: flex-end;width: 50%;}#sk-container-id-1 div.sk-parallel-item:last-child::after {align-self: flex-start;width: 50%;}#sk-container-id-1 div.sk-parallel-item:only-child::after {width: 0;}#sk-container-id-1 div.sk-dashed-wrapped {border: 1px dashed gray;margin: 0 0.4em 0.5em 0.4em;box-sizing: border-box;padding-bottom: 0.4em;background-color: white;}#sk-container-id-1 div.sk-label label {font-family: monospace;font-weight: bold;display: inline-block;line-height: 1.2em;}#sk-container-id-1 div.sk-label-container {text-align: center;}#sk-container-id-1 div.sk-container {/* jupyter's `normalize.less` sets `[hidden] { display: none; }` but bootstrap.min.css set `[hidden] { display: none !important; }` so we also need the `!important` here to be able to override the default hidden behavior on the sphinx rendered scikit-learn.org. See: https://github.com/scikit-learn/scikit-learn/issues/21755 */display: inline-block !important;position: relative;}#sk-container-id-1 div.sk-text-repr-fallback {display: none;}</style><div id=\"sk-container-id-1\" class=\"sk-top-container\"><div class=\"sk-text-repr-fallback\"><pre>LGBMRegressor()</pre><b>In a Jupyter environment, please rerun this cell to show the HTML representation or trust the notebook. <br />On GitHub, the HTML representation is unable to render, please try loading this page with nbviewer.org.</b></div><div class=\"sk-container\" hidden><div class=\"sk-item\"><div class=\"sk-estimator sk-toggleable\"><input class=\"sk-toggleable__control sk-hidden--visually\" id=\"sk-estimator-id-1\" type=\"checkbox\" checked><label for=\"sk-estimator-id-1\" class=\"sk-toggleable__label sk-toggleable__label-arrow\">LGBMRegressor</label><div class=\"sk-toggleable__content\"><pre>LGBMRegressor()</pre></div></div></div></div></div>"
     },
     "execution_count": 7,
     "metadata": {},
     "output_type": "execute_result"
    }
   ],
   "source": [
    "lgbm = lgb.LGBMRegressor()\n",
    "lgbm.fit(X_train, y_train)"
   ],
   "metadata": {
    "collapsed": false
   }
  },
  {
   "cell_type": "code",
   "execution_count": 8,
   "outputs": [
    {
     "name": "stdout",
     "output_type": "stream",
     "text": [
      "RMSE: 0.309805\n",
      "MAE: 0.194317\n",
      "R2: 0.982089\n",
      "Pearson: 0.991939\n"
     ]
    }
   ],
   "source": [
    "metrics(lgbm, X_train, y_train)"
   ],
   "metadata": {
    "collapsed": false
   }
  },
  {
   "cell_type": "code",
   "execution_count": 9,
   "outputs": [
    {
     "name": "stdout",
     "output_type": "stream",
     "text": [
      "RMSE: 1.441519\n",
      "MAE: 1.021037\n",
      "R2: 0.563628\n",
      "Pearson: 0.755566\n"
     ]
    }
   ],
   "source": [
    "# Predict the test set and calculate the accuracy\n",
    "metrics(lgbm, X_test, y_test)"
   ],
   "metadata": {
    "collapsed": false
   }
  },
  {
   "cell_type": "markdown",
   "source": [
    "# Generate dG for prediction data"
   ],
   "metadata": {
    "collapsed": false
   }
  },
  {
   "cell_type": "code",
   "execution_count": 10,
   "outputs": [
    {
     "data": {
      "text/plain": "     MaxEStateIndex  MinEStateIndex  MaxAbsEStateIndex  MinAbsEStateIndex  \\\n762       12.541088       -1.196134          12.541088           0.092849   \n763       12.480255       -1.108454          12.480255           0.108322   \n764       12.247806       -0.047960          12.247806           0.047960   \n765       12.308639       -0.281756          12.308639           0.138137   \n766       12.547528       -0.138840          12.547528           0.138840   \n\n          qed    MolWt  HeavyAtomMolWt  ExactMolWt  NumValenceElectrons  \\\n762  0.574622  336.343         320.215  336.099774                126.0   \n763  0.593099  320.344         304.216  320.104859                120.0   \n764  0.515864  262.264         252.184  262.062994                 96.0   \n765  0.573006  278.263         268.183  278.057909                102.0   \n766  0.554940  292.290         280.194  292.073559                108.0   \n\n     NumRadicalElectrons  ...  fr_tetrazole  fr_thiazole  fr_thiocyan  \\\n762                  0.0  ...           0.0          0.0          0.0   \n763                  0.0  ...           0.0          0.0          0.0   \n764                  0.0  ...           0.0          0.0          0.0   \n765                  0.0  ...           0.0          0.0          0.0   \n766                  0.0  ...           0.0          0.0          0.0   \n\n     fr_thiophene  fr_unbrch_alkane  fr_urea    id  \\\n762           0.0               0.0      0.0  762_   \n763           0.0               0.0      0.0  763_   \n764           0.0               0.0      0.0  764_   \n765           0.0               0.0      0.0  765_   \n766           0.0               0.0      0.0  766_   \n\n                                                smiles  dG  smiles_len  \n762  C12=C(C=C(O1)C(C)(C)O)C1=C(C(=C2)O)C(=O)C=C(O1... NaN          58  \n763  C12=C(C=C(O1)C(C)(C)O)C1=C(C=C2)C(=O)C=C(O1)C1... NaN          55  \n764      C12=C(C=CO1)C1=C(C=C2)C(=O)C=C(O1)C1=CC=CC=C1 NaN          45  \n765   C12=C(C=CO1)C1=C(C(=C2)O)C(=O)C=C(O1)C1=CC=CC=C1 NaN          48  \n766    C12=CC3=C(C(=C1C=CO2)OC)C(=O)C=C(O3)C1=CC=CC=C1 NaN          47  \n\n[5 rows x 212 columns]",
      "text/html": "<div>\n<style scoped>\n    .dataframe tbody tr th:only-of-type {\n        vertical-align: middle;\n    }\n\n    .dataframe tbody tr th {\n        vertical-align: top;\n    }\n\n    .dataframe thead th {\n        text-align: right;\n    }\n</style>\n<table border=\"1\" class=\"dataframe\">\n  <thead>\n    <tr style=\"text-align: right;\">\n      <th></th>\n      <th>MaxEStateIndex</th>\n      <th>MinEStateIndex</th>\n      <th>MaxAbsEStateIndex</th>\n      <th>MinAbsEStateIndex</th>\n      <th>qed</th>\n      <th>MolWt</th>\n      <th>HeavyAtomMolWt</th>\n      <th>ExactMolWt</th>\n      <th>NumValenceElectrons</th>\n      <th>NumRadicalElectrons</th>\n      <th>...</th>\n      <th>fr_tetrazole</th>\n      <th>fr_thiazole</th>\n      <th>fr_thiocyan</th>\n      <th>fr_thiophene</th>\n      <th>fr_unbrch_alkane</th>\n      <th>fr_urea</th>\n      <th>id</th>\n      <th>smiles</th>\n      <th>dG</th>\n      <th>smiles_len</th>\n    </tr>\n  </thead>\n  <tbody>\n    <tr>\n      <th>762</th>\n      <td>12.541088</td>\n      <td>-1.196134</td>\n      <td>12.541088</td>\n      <td>0.092849</td>\n      <td>0.574622</td>\n      <td>336.343</td>\n      <td>320.215</td>\n      <td>336.099774</td>\n      <td>126.0</td>\n      <td>0.0</td>\n      <td>...</td>\n      <td>0.0</td>\n      <td>0.0</td>\n      <td>0.0</td>\n      <td>0.0</td>\n      <td>0.0</td>\n      <td>0.0</td>\n      <td>762_</td>\n      <td>C12=C(C=C(O1)C(C)(C)O)C1=C(C(=C2)O)C(=O)C=C(O1...</td>\n      <td>NaN</td>\n      <td>58</td>\n    </tr>\n    <tr>\n      <th>763</th>\n      <td>12.480255</td>\n      <td>-1.108454</td>\n      <td>12.480255</td>\n      <td>0.108322</td>\n      <td>0.593099</td>\n      <td>320.344</td>\n      <td>304.216</td>\n      <td>320.104859</td>\n      <td>120.0</td>\n      <td>0.0</td>\n      <td>...</td>\n      <td>0.0</td>\n      <td>0.0</td>\n      <td>0.0</td>\n      <td>0.0</td>\n      <td>0.0</td>\n      <td>0.0</td>\n      <td>763_</td>\n      <td>C12=C(C=C(O1)C(C)(C)O)C1=C(C=C2)C(=O)C=C(O1)C1...</td>\n      <td>NaN</td>\n      <td>55</td>\n    </tr>\n    <tr>\n      <th>764</th>\n      <td>12.247806</td>\n      <td>-0.047960</td>\n      <td>12.247806</td>\n      <td>0.047960</td>\n      <td>0.515864</td>\n      <td>262.264</td>\n      <td>252.184</td>\n      <td>262.062994</td>\n      <td>96.0</td>\n      <td>0.0</td>\n      <td>...</td>\n      <td>0.0</td>\n      <td>0.0</td>\n      <td>0.0</td>\n      <td>0.0</td>\n      <td>0.0</td>\n      <td>0.0</td>\n      <td>764_</td>\n      <td>C12=C(C=CO1)C1=C(C=C2)C(=O)C=C(O1)C1=CC=CC=C1</td>\n      <td>NaN</td>\n      <td>45</td>\n    </tr>\n    <tr>\n      <th>765</th>\n      <td>12.308639</td>\n      <td>-0.281756</td>\n      <td>12.308639</td>\n      <td>0.138137</td>\n      <td>0.573006</td>\n      <td>278.263</td>\n      <td>268.183</td>\n      <td>278.057909</td>\n      <td>102.0</td>\n      <td>0.0</td>\n      <td>...</td>\n      <td>0.0</td>\n      <td>0.0</td>\n      <td>0.0</td>\n      <td>0.0</td>\n      <td>0.0</td>\n      <td>0.0</td>\n      <td>765_</td>\n      <td>C12=C(C=CO1)C1=C(C(=C2)O)C(=O)C=C(O1)C1=CC=CC=C1</td>\n      <td>NaN</td>\n      <td>48</td>\n    </tr>\n    <tr>\n      <th>766</th>\n      <td>12.547528</td>\n      <td>-0.138840</td>\n      <td>12.547528</td>\n      <td>0.138840</td>\n      <td>0.554940</td>\n      <td>292.290</td>\n      <td>280.194</td>\n      <td>292.073559</td>\n      <td>108.0</td>\n      <td>0.0</td>\n      <td>...</td>\n      <td>0.0</td>\n      <td>0.0</td>\n      <td>0.0</td>\n      <td>0.0</td>\n      <td>0.0</td>\n      <td>0.0</td>\n      <td>766_</td>\n      <td>C12=CC3=C(C(=C1C=CO2)OC)C(=O)C=C(O3)C1=CC=CC=C1</td>\n      <td>NaN</td>\n      <td>47</td>\n    </tr>\n  </tbody>\n</table>\n<p>5 rows × 212 columns</p>\n</div>"
     },
     "execution_count": 10,
     "metadata": {},
     "output_type": "execute_result"
    }
   ],
   "source": [
    "sync = sync.drop('train_test', axis=1)\n",
    "sync = sync.drop('code', axis=1)\n",
    "sync.head()"
   ],
   "metadata": {
    "collapsed": false
   }
  },
  {
   "cell_type": "code",
   "execution_count": 13,
   "outputs": [
    {
     "data": {
      "text/plain": "array([ -8.79849731,  -9.00543753,  -6.10313082,  -7.31963374,\n        -8.17014008,  -8.8328802 ,  -8.97152617,  -9.47008423,\n        -8.80317294,  -9.32882767,  -8.0949764 ,  -9.88547561,\n        -9.64779967,  -9.28271051,  -8.82772067,  -8.84518867,\n        -6.97156536,  -7.96840672,  -7.96102642,  -9.6151109 ,\n        -9.16792638,  -7.5205578 ,  -8.23240531,  -8.07422577,\n        -7.96282477,  -8.8303626 ,  -9.4458271 ,  -9.23942972,\n        -9.00391621,  -8.06628518,  -9.21314473,  -8.15914136,\n        -7.85313988,  -7.85242057,  -8.45666815,  -9.30829031,\n        -9.26135446,  -8.56427542,  -8.38595793,  -8.92475227,\n        -9.29898507,  -8.08990961,  -7.51213896,  -7.95040261,\n        -7.81504787, -10.09846593,  -7.36672717,  -9.20670023,\n        -7.43374127,  -8.58070386,  -8.76739393,  -8.631622  ,\n        -8.62263758,  -8.32607017,  -7.83752846,  -8.37560727,\n        -7.54329796,  -9.9299899 ,  -8.83720869,  -7.32874228,\n        -7.88053332,  -8.631622  ,  -8.81253795,  -9.35256336,\n        -8.28974789,  -8.77936297,  -8.21561288,  -7.93429474,\n        -9.82812131,  -7.71942476,  -7.83414076,  -9.44365587,\n        -8.60037469,  -7.59446067, -11.09816417,  -7.50389663,\n        -8.2851826 ,  -8.93250858,  -8.84997754,  -7.47081268,\n        -8.36525591,  -9.8132406 ,  -9.89330802,  -8.64468395,\n        -9.4654912 ,  -8.57914818,  -8.93935961,  -7.26690735,\n        -9.28047951,  -7.91997083,  -9.28140014,  -8.63175004,\n        -9.43438133,  -7.86513815,  -9.24019947,  -8.88640847,\n        -8.34580212,  -9.35056724,  -8.42632085,  -9.02004476,\n        -8.61588213,  -9.14847534,  -7.71017385,  -7.65610523,\n        -8.91609109,  -8.97990172,  -8.94993204,  -7.96417633,\n        -8.3656282 ,  -7.6712809 ,  -8.94394486,  -7.99221875,\n        -8.81236671,  -7.73857553,  -8.94394486,  -7.99221875,\n        -9.05117067,  -8.02222631,  -8.86870034,  -9.23903957,\n        -8.60948246,  -8.87931747,  -8.92748382,  -9.23130082,\n        -8.33452915,  -8.3650546 ,  -8.68874376,  -6.7501137 ,\n        -9.39292379,  -7.6541542 ,  -7.39236071,  -8.06293962,\n        -8.90024654,  -9.69535897,  -7.29090606,  -7.94352671,\n        -8.31818689,  -9.12001288,  -8.5539825 ,  -8.38571901,\n        -9.02956962,  -8.33341432,  -8.94675977, -11.11343641,\n       -10.90659873])"
     },
     "execution_count": 13,
     "metadata": {},
     "output_type": "execute_result"
    }
   ],
   "source": [
    "# encode the SMILES strings to categorical values\n",
    "le = LabelEncoder()\n",
    "sync['smiles'] = le.fit_transform(sync['smiles'])\n",
    "\n",
    "# remove _ at the end of column id and convert to int\n",
    "sync['id'] = sync['id'].str.replace('_','').astype(int)\n",
    "\n",
    "# Split X and y where the dG is the target\n",
    "X_sync = sync.drop('dG', axis=1)\n",
    "\n",
    "# scale the data\n",
    "scaler = StandardScaler()\n",
    "X_sync = scaler.fit_transform(X_sync)\n",
    "\n",
    "# Predict the sync set with the best model\n",
    "y_sync = lgbm.predict(X_sync)\n",
    "y_sync"
   ],
   "metadata": {
    "collapsed": false
   }
  },
  {
   "cell_type": "code",
   "execution_count": 14,
   "outputs": [],
   "source": [
    "# Add dG column to sync df\n",
    "sync['dG'] = y_sync"
   ],
   "metadata": {
    "collapsed": false
   }
  },
  {
   "cell_type": "code",
   "execution_count": 15,
   "outputs": [
    {
     "data": {
      "text/plain": "     MaxEStateIndex  MinEStateIndex  MaxAbsEStateIndex  MinAbsEStateIndex  \\\n762       12.541088       -1.196134          12.541088           0.092849   \n763       12.480255       -1.108454          12.480255           0.108322   \n764       12.247806       -0.047960          12.247806           0.047960   \n765       12.308639       -0.281756          12.308639           0.138137   \n766       12.547528       -0.138840          12.547528           0.138840   \n\n          qed    MolWt  HeavyAtomMolWt  ExactMolWt  NumValenceElectrons  \\\n762  0.574622  336.343         320.215  336.099774                126.0   \n763  0.593099  320.344         304.216  320.104859                120.0   \n764  0.515864  262.264         252.184  262.062994                 96.0   \n765  0.573006  278.263         268.183  278.057909                102.0   \n766  0.554940  292.290         280.194  292.073559                108.0   \n\n     NumRadicalElectrons  ...  fr_tetrazole  fr_thiazole  fr_thiocyan  \\\n762                  0.0  ...           0.0          0.0          0.0   \n763                  0.0  ...           0.0          0.0          0.0   \n764                  0.0  ...           0.0          0.0          0.0   \n765                  0.0  ...           0.0          0.0          0.0   \n766                  0.0  ...           0.0          0.0          0.0   \n\n     fr_thiophene  fr_unbrch_alkane  fr_urea   id  smiles        dG  \\\n762           0.0               0.0      0.0  762      82 -8.798497   \n763           0.0               0.0      0.0  763      83 -9.005438   \n764           0.0               0.0      0.0  764      88 -6.103131   \n765           0.0               0.0      0.0  765      87 -7.319634   \n766           0.0               0.0      0.0  766     100 -8.170140   \n\n     smiles_len  \n762          58  \n763          55  \n764          45  \n765          48  \n766          47  \n\n[5 rows x 212 columns]",
      "text/html": "<div>\n<style scoped>\n    .dataframe tbody tr th:only-of-type {\n        vertical-align: middle;\n    }\n\n    .dataframe tbody tr th {\n        vertical-align: top;\n    }\n\n    .dataframe thead th {\n        text-align: right;\n    }\n</style>\n<table border=\"1\" class=\"dataframe\">\n  <thead>\n    <tr style=\"text-align: right;\">\n      <th></th>\n      <th>MaxEStateIndex</th>\n      <th>MinEStateIndex</th>\n      <th>MaxAbsEStateIndex</th>\n      <th>MinAbsEStateIndex</th>\n      <th>qed</th>\n      <th>MolWt</th>\n      <th>HeavyAtomMolWt</th>\n      <th>ExactMolWt</th>\n      <th>NumValenceElectrons</th>\n      <th>NumRadicalElectrons</th>\n      <th>...</th>\n      <th>fr_tetrazole</th>\n      <th>fr_thiazole</th>\n      <th>fr_thiocyan</th>\n      <th>fr_thiophene</th>\n      <th>fr_unbrch_alkane</th>\n      <th>fr_urea</th>\n      <th>id</th>\n      <th>smiles</th>\n      <th>dG</th>\n      <th>smiles_len</th>\n    </tr>\n  </thead>\n  <tbody>\n    <tr>\n      <th>762</th>\n      <td>12.541088</td>\n      <td>-1.196134</td>\n      <td>12.541088</td>\n      <td>0.092849</td>\n      <td>0.574622</td>\n      <td>336.343</td>\n      <td>320.215</td>\n      <td>336.099774</td>\n      <td>126.0</td>\n      <td>0.0</td>\n      <td>...</td>\n      <td>0.0</td>\n      <td>0.0</td>\n      <td>0.0</td>\n      <td>0.0</td>\n      <td>0.0</td>\n      <td>0.0</td>\n      <td>762</td>\n      <td>82</td>\n      <td>-8.798497</td>\n      <td>58</td>\n    </tr>\n    <tr>\n      <th>763</th>\n      <td>12.480255</td>\n      <td>-1.108454</td>\n      <td>12.480255</td>\n      <td>0.108322</td>\n      <td>0.593099</td>\n      <td>320.344</td>\n      <td>304.216</td>\n      <td>320.104859</td>\n      <td>120.0</td>\n      <td>0.0</td>\n      <td>...</td>\n      <td>0.0</td>\n      <td>0.0</td>\n      <td>0.0</td>\n      <td>0.0</td>\n      <td>0.0</td>\n      <td>0.0</td>\n      <td>763</td>\n      <td>83</td>\n      <td>-9.005438</td>\n      <td>55</td>\n    </tr>\n    <tr>\n      <th>764</th>\n      <td>12.247806</td>\n      <td>-0.047960</td>\n      <td>12.247806</td>\n      <td>0.047960</td>\n      <td>0.515864</td>\n      <td>262.264</td>\n      <td>252.184</td>\n      <td>262.062994</td>\n      <td>96.0</td>\n      <td>0.0</td>\n      <td>...</td>\n      <td>0.0</td>\n      <td>0.0</td>\n      <td>0.0</td>\n      <td>0.0</td>\n      <td>0.0</td>\n      <td>0.0</td>\n      <td>764</td>\n      <td>88</td>\n      <td>-6.103131</td>\n      <td>45</td>\n    </tr>\n    <tr>\n      <th>765</th>\n      <td>12.308639</td>\n      <td>-0.281756</td>\n      <td>12.308639</td>\n      <td>0.138137</td>\n      <td>0.573006</td>\n      <td>278.263</td>\n      <td>268.183</td>\n      <td>278.057909</td>\n      <td>102.0</td>\n      <td>0.0</td>\n      <td>...</td>\n      <td>0.0</td>\n      <td>0.0</td>\n      <td>0.0</td>\n      <td>0.0</td>\n      <td>0.0</td>\n      <td>0.0</td>\n      <td>765</td>\n      <td>87</td>\n      <td>-7.319634</td>\n      <td>48</td>\n    </tr>\n    <tr>\n      <th>766</th>\n      <td>12.547528</td>\n      <td>-0.138840</td>\n      <td>12.547528</td>\n      <td>0.138840</td>\n      <td>0.554940</td>\n      <td>292.290</td>\n      <td>280.194</td>\n      <td>292.073559</td>\n      <td>108.0</td>\n      <td>0.0</td>\n      <td>...</td>\n      <td>0.0</td>\n      <td>0.0</td>\n      <td>0.0</td>\n      <td>0.0</td>\n      <td>0.0</td>\n      <td>0.0</td>\n      <td>766</td>\n      <td>100</td>\n      <td>-8.170140</td>\n      <td>47</td>\n    </tr>\n  </tbody>\n</table>\n<p>5 rows × 212 columns</p>\n</div>"
     },
     "execution_count": 15,
     "metadata": {},
     "output_type": "execute_result"
    }
   ],
   "source": [
    "sync.head()"
   ],
   "metadata": {
    "collapsed": false
   }
  },
  {
   "cell_type": "code",
   "execution_count": null,
   "outputs": [],
   "source": [],
   "metadata": {
    "collapsed": false
   }
  }
 ],
 "metadata": {
  "kernelspec": {
   "display_name": "Python 3",
   "language": "python",
   "name": "python3"
  },
  "language_info": {
   "codemirror_mode": {
    "name": "ipython",
    "version": 2
   },
   "file_extension": ".py",
   "mimetype": "text/x-python",
   "name": "python",
   "nbconvert_exporter": "python",
   "pygments_lexer": "ipython2",
   "version": "2.7.6"
  }
 },
 "nbformat": 4,
 "nbformat_minor": 0
}
